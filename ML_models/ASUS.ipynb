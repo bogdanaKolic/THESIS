{
 "cells": [
  {
   "cell_type": "code",
   "execution_count": 1,
   "id": "86859e7c-975d-442c-9463-9f8e009e9cca",
   "metadata": {},
   "outputs": [],
   "source": [
    "%matplotlib inline\n",
    "import pandas as pd\n",
    "import numpy as np\n",
    "import matplotlib.pyplot as plt\n",
    "\n",
    "from sklearn.model_selection import train_test_split\n",
    "\n",
    "from sklearn.linear_model import LogisticRegression\n",
    "from sklearn.tree import DecisionTreeClassifier\n",
    "from sklearn.tree import plot_tree\n",
    "from xgboost import XGBClassifier\n",
    "from catboost import CatBoostClassifier\n",
    "\n",
    "from sklearn.metrics import confusion_matrix\n",
    "\n",
    "from time import thread_time_ns"
   ]
  },
  {
   "cell_type": "code",
   "execution_count": 2,
   "id": "2c66e8cf-c39d-45da-9b39-e84063256c6e",
   "metadata": {},
   "outputs": [],
   "source": [
    "df = pd.read_csv('asus_data.csv')"
   ]
  },
  {
   "cell_type": "code",
   "execution_count": 3,
   "id": "e5933762-dc05-47d7-8732-7f09bd06faab",
   "metadata": {},
   "outputs": [
    {
     "name": "stdout",
     "output_type": "stream",
     "text": [
      "<class 'pandas.core.frame.DataFrame'>\n",
      "RangeIndex: 4693173 entries, 0 to 4693172\n",
      "Data columns (total 9 columns):\n",
      " #   Column     Dtype  \n",
      "---  ------     -----  \n",
      " 0   laptop     object \n",
      " 1   load       int64  \n",
      " 2   code_type  object \n",
      " 3   timestamp  float64\n",
      " 4   llcm       int64  \n",
      " 5   l2ch       int64  \n",
      " 6   l1ch       int64  \n",
      " 7   stalls     int64  \n",
      " 8   label      object \n",
      "dtypes: float64(1), int64(5), object(3)\n",
      "memory usage: 322.3+ MB\n"
     ]
    }
   ],
   "source": [
    "df.info()"
   ]
  },
  {
   "cell_type": "code",
   "execution_count": 4,
   "id": "603cb7d0-a41d-43a6-94ac-95d4cece2526",
   "metadata": {},
   "outputs": [
    {
     "name": "stdout",
     "output_type": "stream",
     "text": [
      "<class 'pandas.core.frame.DataFrame'>\n",
      "RangeIndex: 4693173 entries, 0 to 4693172\n",
      "Data columns (total 9 columns):\n",
      " #   Column     Dtype  \n",
      "---  ------     -----  \n",
      " 0   laptop     object \n",
      " 1   load       int64  \n",
      " 2   code_type  object \n",
      " 3   timestamp  float64\n",
      " 4   llcm       int64  \n",
      " 5   l2ch       int64  \n",
      " 6   l1ch       int64  \n",
      " 7   stalls     int64  \n",
      " 8   label      object \n",
      "dtypes: float64(1), int64(5), object(3)\n",
      "memory usage: 322.3+ MB\n"
     ]
    }
   ],
   "source": [
    "df.dropna(inplace=True)\n",
    "df.info()"
   ]
  },
  {
   "cell_type": "code",
   "execution_count": 5,
   "id": "684ba58c-d6f3-4ba8-b246-553cbfe75b75",
   "metadata": {},
   "outputs": [
    {
     "data": {
      "text/html": [
       "<div>\n",
       "<style scoped>\n",
       "    .dataframe tbody tr th:only-of-type {\n",
       "        vertical-align: middle;\n",
       "    }\n",
       "\n",
       "    .dataframe tbody tr th {\n",
       "        vertical-align: top;\n",
       "    }\n",
       "\n",
       "    .dataframe thead th {\n",
       "        text-align: right;\n",
       "    }\n",
       "</style>\n",
       "<table border=\"1\" class=\"dataframe\">\n",
       "  <thead>\n",
       "    <tr style=\"text-align: right;\">\n",
       "      <th></th>\n",
       "      <th>load</th>\n",
       "      <th>timestamp</th>\n",
       "      <th>llcm</th>\n",
       "      <th>l2ch</th>\n",
       "      <th>l1ch</th>\n",
       "      <th>stalls</th>\n",
       "    </tr>\n",
       "  </thead>\n",
       "  <tbody>\n",
       "    <tr>\n",
       "      <th>count</th>\n",
       "      <td>4.693173e+06</td>\n",
       "      <td>4.693173e+06</td>\n",
       "      <td>4.693173e+06</td>\n",
       "      <td>4.693173e+06</td>\n",
       "      <td>4.693173e+06</td>\n",
       "      <td>4.693173e+06</td>\n",
       "    </tr>\n",
       "    <tr>\n",
       "      <th>mean</th>\n",
       "      <td>2.996028e+00</td>\n",
       "      <td>1.427924e+02</td>\n",
       "      <td>1.127409e+04</td>\n",
       "      <td>4.710239e+03</td>\n",
       "      <td>1.939068e+05</td>\n",
       "      <td>2.202454e+06</td>\n",
       "    </tr>\n",
       "    <tr>\n",
       "      <th>std</th>\n",
       "      <td>1.734338e+00</td>\n",
       "      <td>1.104816e+02</td>\n",
       "      <td>2.893191e+04</td>\n",
       "      <td>1.371648e+04</td>\n",
       "      <td>4.152132e+05</td>\n",
       "      <td>1.132267e+06</td>\n",
       "    </tr>\n",
       "    <tr>\n",
       "      <th>min</th>\n",
       "      <td>0.000000e+00</td>\n",
       "      <td>1.007000e-03</td>\n",
       "      <td>0.000000e+00</td>\n",
       "      <td>0.000000e+00</td>\n",
       "      <td>0.000000e+00</td>\n",
       "      <td>0.000000e+00</td>\n",
       "    </tr>\n",
       "    <tr>\n",
       "      <th>25%</th>\n",
       "      <td>0.000000e+00</td>\n",
       "      <td>5.340001e+01</td>\n",
       "      <td>1.564000e+03</td>\n",
       "      <td>2.000000e+00</td>\n",
       "      <td>1.530000e+02</td>\n",
       "      <td>2.293989e+06</td>\n",
       "    </tr>\n",
       "    <tr>\n",
       "      <th>50%</th>\n",
       "      <td>4.000000e+00</td>\n",
       "      <td>1.109370e+02</td>\n",
       "      <td>5.237000e+03</td>\n",
       "      <td>3.000000e+01</td>\n",
       "      <td>1.955500e+04</td>\n",
       "      <td>2.345484e+06</td>\n",
       "    </tr>\n",
       "    <tr>\n",
       "      <th>75%</th>\n",
       "      <td>4.000000e+00</td>\n",
       "      <td>2.178290e+02</td>\n",
       "      <td>1.003700e+04</td>\n",
       "      <td>1.268000e+03</td>\n",
       "      <td>5.539900e+04</td>\n",
       "      <td>2.664638e+06</td>\n",
       "    </tr>\n",
       "    <tr>\n",
       "      <th>max</th>\n",
       "      <td>4.000000e+00</td>\n",
       "      <td>4.784250e+02</td>\n",
       "      <td>1.375219e+06</td>\n",
       "      <td>9.661200e+04</td>\n",
       "      <td>1.871922e+06</td>\n",
       "      <td>6.319898e+08</td>\n",
       "    </tr>\n",
       "  </tbody>\n",
       "</table>\n",
       "</div>"
      ],
      "text/plain": [
       "               load     timestamp          llcm          l2ch          l1ch  \\\n",
       "count  4.693173e+06  4.693173e+06  4.693173e+06  4.693173e+06  4.693173e+06   \n",
       "mean   2.996028e+00  1.427924e+02  1.127409e+04  4.710239e+03  1.939068e+05   \n",
       "std    1.734338e+00  1.104816e+02  2.893191e+04  1.371648e+04  4.152132e+05   \n",
       "min    0.000000e+00  1.007000e-03  0.000000e+00  0.000000e+00  0.000000e+00   \n",
       "25%    0.000000e+00  5.340001e+01  1.564000e+03  2.000000e+00  1.530000e+02   \n",
       "50%    4.000000e+00  1.109370e+02  5.237000e+03  3.000000e+01  1.955500e+04   \n",
       "75%    4.000000e+00  2.178290e+02  1.003700e+04  1.268000e+03  5.539900e+04   \n",
       "max    4.000000e+00  4.784250e+02  1.375219e+06  9.661200e+04  1.871922e+06   \n",
       "\n",
       "             stalls  \n",
       "count  4.693173e+06  \n",
       "mean   2.202454e+06  \n",
       "std    1.132267e+06  \n",
       "min    0.000000e+00  \n",
       "25%    2.293989e+06  \n",
       "50%    2.345484e+06  \n",
       "75%    2.664638e+06  \n",
       "max    6.319898e+08  "
      ]
     },
     "execution_count": 5,
     "metadata": {},
     "output_type": "execute_result"
    }
   ],
   "source": [
    "df.describe()"
   ]
  },
  {
   "cell_type": "code",
   "execution_count": 6,
   "id": "e7e3f2ee-29e8-48e8-8acf-acfd75d46c80",
   "metadata": {},
   "outputs": [
    {
     "data": {
      "text/html": [
       "<div>\n",
       "<style scoped>\n",
       "    .dataframe tbody tr th:only-of-type {\n",
       "        vertical-align: middle;\n",
       "    }\n",
       "\n",
       "    .dataframe tbody tr th {\n",
       "        vertical-align: top;\n",
       "    }\n",
       "\n",
       "    .dataframe thead th {\n",
       "        text-align: right;\n",
       "    }\n",
       "</style>\n",
       "<table border=\"1\" class=\"dataframe\">\n",
       "  <thead>\n",
       "    <tr style=\"text-align: right;\">\n",
       "      <th></th>\n",
       "      <th>llcm</th>\n",
       "      <th>l2ch</th>\n",
       "      <th>l1ch</th>\n",
       "      <th>stalls</th>\n",
       "    </tr>\n",
       "  </thead>\n",
       "  <tbody>\n",
       "    <tr>\n",
       "      <th>0</th>\n",
       "      <td>3779</td>\n",
       "      <td>44</td>\n",
       "      <td>459</td>\n",
       "      <td>892017</td>\n",
       "    </tr>\n",
       "    <tr>\n",
       "      <th>1</th>\n",
       "      <td>5877</td>\n",
       "      <td>0</td>\n",
       "      <td>70</td>\n",
       "      <td>1421591</td>\n",
       "    </tr>\n",
       "    <tr>\n",
       "      <th>2</th>\n",
       "      <td>3346</td>\n",
       "      <td>4</td>\n",
       "      <td>21</td>\n",
       "      <td>1593223</td>\n",
       "    </tr>\n",
       "    <tr>\n",
       "      <th>3</th>\n",
       "      <td>5146</td>\n",
       "      <td>3</td>\n",
       "      <td>73</td>\n",
       "      <td>2206441</td>\n",
       "    </tr>\n",
       "    <tr>\n",
       "      <th>4</th>\n",
       "      <td>5933</td>\n",
       "      <td>0</td>\n",
       "      <td>63</td>\n",
       "      <td>2004128</td>\n",
       "    </tr>\n",
       "    <tr>\n",
       "      <th>...</th>\n",
       "      <td>...</td>\n",
       "      <td>...</td>\n",
       "      <td>...</td>\n",
       "      <td>...</td>\n",
       "    </tr>\n",
       "    <tr>\n",
       "      <th>4693168</th>\n",
       "      <td>1875</td>\n",
       "      <td>2242</td>\n",
       "      <td>9068</td>\n",
       "      <td>324410</td>\n",
       "    </tr>\n",
       "    <tr>\n",
       "      <th>4693169</th>\n",
       "      <td>1639</td>\n",
       "      <td>1728</td>\n",
       "      <td>6994</td>\n",
       "      <td>280136</td>\n",
       "    </tr>\n",
       "    <tr>\n",
       "      <th>4693170</th>\n",
       "      <td>662</td>\n",
       "      <td>662</td>\n",
       "      <td>2785</td>\n",
       "      <td>125328</td>\n",
       "    </tr>\n",
       "    <tr>\n",
       "      <th>4693171</th>\n",
       "      <td>0</td>\n",
       "      <td>0</td>\n",
       "      <td>0</td>\n",
       "      <td>0</td>\n",
       "    </tr>\n",
       "    <tr>\n",
       "      <th>4693172</th>\n",
       "      <td>0</td>\n",
       "      <td>0</td>\n",
       "      <td>0</td>\n",
       "      <td>0</td>\n",
       "    </tr>\n",
       "  </tbody>\n",
       "</table>\n",
       "<p>4693173 rows × 4 columns</p>\n",
       "</div>"
      ],
      "text/plain": [
       "         llcm  l2ch  l1ch   stalls\n",
       "0        3779    44   459   892017\n",
       "1        5877     0    70  1421591\n",
       "2        3346     4    21  1593223\n",
       "3        5146     3    73  2206441\n",
       "4        5933     0    63  2004128\n",
       "...       ...   ...   ...      ...\n",
       "4693168  1875  2242  9068   324410\n",
       "4693169  1639  1728  6994   280136\n",
       "4693170   662   662  2785   125328\n",
       "4693171     0     0     0        0\n",
       "4693172     0     0     0        0\n",
       "\n",
       "[4693173 rows x 4 columns]"
      ]
     },
     "execution_count": 6,
     "metadata": {},
     "output_type": "execute_result"
    }
   ],
   "source": [
    "samples=df.drop(columns=['label', 'code_type', 'timestamp', 'load', 'laptop'])\n",
    "#samples['laptop'].replace(['lenovo', 'asus', 'dell'], [1, 2, 3], inplace=True)\n",
    "#samples['laptop'] = samples['laptop'].astype(\"int64\")\n",
    "samples"
   ]
  },
  {
   "cell_type": "code",
   "execution_count": 7,
   "id": "bf94d654-3b5c-48ab-9a5d-944cce9cd11a",
   "metadata": {},
   "outputs": [
    {
     "data": {
      "text/plain": [
       "0          1\n",
       "1          1\n",
       "2          1\n",
       "3          1\n",
       "4          1\n",
       "          ..\n",
       "4693168    0\n",
       "4693169    0\n",
       "4693170    0\n",
       "4693171    0\n",
       "4693172    0\n",
       "Name: label, Length: 4693173, dtype: int64"
      ]
     },
     "execution_count": 7,
     "metadata": {},
     "output_type": "execute_result"
    }
   ],
   "source": [
    "labels = df['label'].replace(['no_attack', 'attack'], [0, 1])\n",
    "labels = labels.astype('int64')\n",
    "labels"
   ]
  },
  {
   "cell_type": "code",
   "execution_count": 8,
   "id": "bee3bdd8-8309-4ba1-bac3-9dc6ebea843e",
   "metadata": {},
   "outputs": [],
   "source": [
    "X_train, X_test, y_train, y_test = train_test_split(samples, labels, train_size = 0.5, random_state= 33, shuffle = True)"
   ]
  },
  {
   "cell_type": "code",
   "execution_count": 9,
   "id": "dde23be7-895c-4653-b421-c5ef5f89be2c",
   "metadata": {},
   "outputs": [],
   "source": [
    "def evaluate(model):\n",
    "    # https://stackoverflow.com/questions/31324218/scikit-learn-how-to-obtain-true-positive-true-negative-false-positive-and-fal\n",
    "    y_pred = model.predict(X_test)\n",
    "    tn, fp, fn, tp = confusion_matrix(y_test, y_pred, labels=[0, 1]).ravel()\n",
    "    n = tn + fp + fn + tp\n",
    "    return f'accuracy: {(tp+tn)*100.0/n}%\\nfalse positives: {fp*100.0/n}%\\nfalse negatives: {fn*100.0/n}%'"
   ]
  },
  {
   "cell_type": "code",
   "execution_count": 10,
   "id": "060775fa-19b0-41cc-a209-b76b9d026408",
   "metadata": {},
   "outputs": [
    {
     "data": {
      "text/html": [
       "<style>#sk-container-id-1 {color: black;background-color: white;}#sk-container-id-1 pre{padding: 0;}#sk-container-id-1 div.sk-toggleable {background-color: white;}#sk-container-id-1 label.sk-toggleable__label {cursor: pointer;display: block;width: 100%;margin-bottom: 0;padding: 0.3em;box-sizing: border-box;text-align: center;}#sk-container-id-1 label.sk-toggleable__label-arrow:before {content: \"▸\";float: left;margin-right: 0.25em;color: #696969;}#sk-container-id-1 label.sk-toggleable__label-arrow:hover:before {color: black;}#sk-container-id-1 div.sk-estimator:hover label.sk-toggleable__label-arrow:before {color: black;}#sk-container-id-1 div.sk-toggleable__content {max-height: 0;max-width: 0;overflow: hidden;text-align: left;background-color: #f0f8ff;}#sk-container-id-1 div.sk-toggleable__content pre {margin: 0.2em;color: black;border-radius: 0.25em;background-color: #f0f8ff;}#sk-container-id-1 input.sk-toggleable__control:checked~div.sk-toggleable__content {max-height: 200px;max-width: 100%;overflow: auto;}#sk-container-id-1 input.sk-toggleable__control:checked~label.sk-toggleable__label-arrow:before {content: \"▾\";}#sk-container-id-1 div.sk-estimator input.sk-toggleable__control:checked~label.sk-toggleable__label {background-color: #d4ebff;}#sk-container-id-1 div.sk-label input.sk-toggleable__control:checked~label.sk-toggleable__label {background-color: #d4ebff;}#sk-container-id-1 input.sk-hidden--visually {border: 0;clip: rect(1px 1px 1px 1px);clip: rect(1px, 1px, 1px, 1px);height: 1px;margin: -1px;overflow: hidden;padding: 0;position: absolute;width: 1px;}#sk-container-id-1 div.sk-estimator {font-family: monospace;background-color: #f0f8ff;border: 1px dotted black;border-radius: 0.25em;box-sizing: border-box;margin-bottom: 0.5em;}#sk-container-id-1 div.sk-estimator:hover {background-color: #d4ebff;}#sk-container-id-1 div.sk-parallel-item::after {content: \"\";width: 100%;border-bottom: 1px solid gray;flex-grow: 1;}#sk-container-id-1 div.sk-label:hover label.sk-toggleable__label {background-color: #d4ebff;}#sk-container-id-1 div.sk-serial::before {content: \"\";position: absolute;border-left: 1px solid gray;box-sizing: border-box;top: 0;bottom: 0;left: 50%;z-index: 0;}#sk-container-id-1 div.sk-serial {display: flex;flex-direction: column;align-items: center;background-color: white;padding-right: 0.2em;padding-left: 0.2em;position: relative;}#sk-container-id-1 div.sk-item {position: relative;z-index: 1;}#sk-container-id-1 div.sk-parallel {display: flex;align-items: stretch;justify-content: center;background-color: white;position: relative;}#sk-container-id-1 div.sk-item::before, #sk-container-id-1 div.sk-parallel-item::before {content: \"\";position: absolute;border-left: 1px solid gray;box-sizing: border-box;top: 0;bottom: 0;left: 50%;z-index: -1;}#sk-container-id-1 div.sk-parallel-item {display: flex;flex-direction: column;z-index: 1;position: relative;background-color: white;}#sk-container-id-1 div.sk-parallel-item:first-child::after {align-self: flex-end;width: 50%;}#sk-container-id-1 div.sk-parallel-item:last-child::after {align-self: flex-start;width: 50%;}#sk-container-id-1 div.sk-parallel-item:only-child::after {width: 0;}#sk-container-id-1 div.sk-dashed-wrapped {border: 1px dashed gray;margin: 0 0.4em 0.5em 0.4em;box-sizing: border-box;padding-bottom: 0.4em;background-color: white;}#sk-container-id-1 div.sk-label label {font-family: monospace;font-weight: bold;display: inline-block;line-height: 1.2em;}#sk-container-id-1 div.sk-label-container {text-align: center;}#sk-container-id-1 div.sk-container {/* jupyter's `normalize.less` sets `[hidden] { display: none; }` but bootstrap.min.css set `[hidden] { display: none !important; }` so we also need the `!important` here to be able to override the default hidden behavior on the sphinx rendered scikit-learn.org. See: https://github.com/scikit-learn/scikit-learn/issues/21755 */display: inline-block !important;position: relative;}#sk-container-id-1 div.sk-text-repr-fallback {display: none;}</style><div id=\"sk-container-id-1\" class=\"sk-top-container\"><div class=\"sk-text-repr-fallback\"><pre>LogisticRegression(random_state=33)</pre><b>In a Jupyter environment, please rerun this cell to show the HTML representation or trust the notebook. <br />On GitHub, the HTML representation is unable to render, please try loading this page with nbviewer.org.</b></div><div class=\"sk-container\" hidden><div class=\"sk-item\"><div class=\"sk-estimator sk-toggleable\"><input class=\"sk-toggleable__control sk-hidden--visually\" id=\"sk-estimator-id-1\" type=\"checkbox\" checked><label for=\"sk-estimator-id-1\" class=\"sk-toggleable__label sk-toggleable__label-arrow\">LogisticRegression</label><div class=\"sk-toggleable__content\"><pre>LogisticRegression(random_state=33)</pre></div></div></div></div></div>"
      ],
      "text/plain": [
       "LogisticRegression(random_state=33)"
      ]
     },
     "execution_count": 10,
     "metadata": {},
     "output_type": "execute_result"
    }
   ],
   "source": [
    "log_reg_model = LogisticRegression(random_state=33)\n",
    "log_reg_model.fit(X_train, y_train)"
   ]
  },
  {
   "cell_type": "code",
   "execution_count": 11,
   "id": "590d2c24-415f-4c87-bba0-9617e23f6240",
   "metadata": {},
   "outputs": [
    {
     "data": {
      "text/plain": [
       "0.9931206471356059"
      ]
     },
     "execution_count": 11,
     "metadata": {},
     "output_type": "execute_result"
    }
   ],
   "source": [
    "log_reg_model.score(X_test, y_test)"
   ]
  },
  {
   "cell_type": "code",
   "execution_count": 12,
   "id": "c70551dd-84bc-43fc-85be-4951d9e322e4",
   "metadata": {},
   "outputs": [
    {
     "name": "stdout",
     "output_type": "stream",
     "text": [
      "accuracy: 99.31206471356059%\n",
      "false positives: 0.6794548849030528%\n",
      "false negatives: 0.008480401536358977%\n"
     ]
    }
   ],
   "source": [
    "print(evaluate(log_reg_model))"
   ]
  },
  {
   "cell_type": "code",
   "execution_count": 13,
   "id": "2f2497cb-d48c-4995-95cb-5d30ede45d6a",
   "metadata": {},
   "outputs": [
    {
     "data": {
      "text/html": [
       "<style>#sk-container-id-2 {color: black;background-color: white;}#sk-container-id-2 pre{padding: 0;}#sk-container-id-2 div.sk-toggleable {background-color: white;}#sk-container-id-2 label.sk-toggleable__label {cursor: pointer;display: block;width: 100%;margin-bottom: 0;padding: 0.3em;box-sizing: border-box;text-align: center;}#sk-container-id-2 label.sk-toggleable__label-arrow:before {content: \"▸\";float: left;margin-right: 0.25em;color: #696969;}#sk-container-id-2 label.sk-toggleable__label-arrow:hover:before {color: black;}#sk-container-id-2 div.sk-estimator:hover label.sk-toggleable__label-arrow:before {color: black;}#sk-container-id-2 div.sk-toggleable__content {max-height: 0;max-width: 0;overflow: hidden;text-align: left;background-color: #f0f8ff;}#sk-container-id-2 div.sk-toggleable__content pre {margin: 0.2em;color: black;border-radius: 0.25em;background-color: #f0f8ff;}#sk-container-id-2 input.sk-toggleable__control:checked~div.sk-toggleable__content {max-height: 200px;max-width: 100%;overflow: auto;}#sk-container-id-2 input.sk-toggleable__control:checked~label.sk-toggleable__label-arrow:before {content: \"▾\";}#sk-container-id-2 div.sk-estimator input.sk-toggleable__control:checked~label.sk-toggleable__label {background-color: #d4ebff;}#sk-container-id-2 div.sk-label input.sk-toggleable__control:checked~label.sk-toggleable__label {background-color: #d4ebff;}#sk-container-id-2 input.sk-hidden--visually {border: 0;clip: rect(1px 1px 1px 1px);clip: rect(1px, 1px, 1px, 1px);height: 1px;margin: -1px;overflow: hidden;padding: 0;position: absolute;width: 1px;}#sk-container-id-2 div.sk-estimator {font-family: monospace;background-color: #f0f8ff;border: 1px dotted black;border-radius: 0.25em;box-sizing: border-box;margin-bottom: 0.5em;}#sk-container-id-2 div.sk-estimator:hover {background-color: #d4ebff;}#sk-container-id-2 div.sk-parallel-item::after {content: \"\";width: 100%;border-bottom: 1px solid gray;flex-grow: 1;}#sk-container-id-2 div.sk-label:hover label.sk-toggleable__label {background-color: #d4ebff;}#sk-container-id-2 div.sk-serial::before {content: \"\";position: absolute;border-left: 1px solid gray;box-sizing: border-box;top: 0;bottom: 0;left: 50%;z-index: 0;}#sk-container-id-2 div.sk-serial {display: flex;flex-direction: column;align-items: center;background-color: white;padding-right: 0.2em;padding-left: 0.2em;position: relative;}#sk-container-id-2 div.sk-item {position: relative;z-index: 1;}#sk-container-id-2 div.sk-parallel {display: flex;align-items: stretch;justify-content: center;background-color: white;position: relative;}#sk-container-id-2 div.sk-item::before, #sk-container-id-2 div.sk-parallel-item::before {content: \"\";position: absolute;border-left: 1px solid gray;box-sizing: border-box;top: 0;bottom: 0;left: 50%;z-index: -1;}#sk-container-id-2 div.sk-parallel-item {display: flex;flex-direction: column;z-index: 1;position: relative;background-color: white;}#sk-container-id-2 div.sk-parallel-item:first-child::after {align-self: flex-end;width: 50%;}#sk-container-id-2 div.sk-parallel-item:last-child::after {align-self: flex-start;width: 50%;}#sk-container-id-2 div.sk-parallel-item:only-child::after {width: 0;}#sk-container-id-2 div.sk-dashed-wrapped {border: 1px dashed gray;margin: 0 0.4em 0.5em 0.4em;box-sizing: border-box;padding-bottom: 0.4em;background-color: white;}#sk-container-id-2 div.sk-label label {font-family: monospace;font-weight: bold;display: inline-block;line-height: 1.2em;}#sk-container-id-2 div.sk-label-container {text-align: center;}#sk-container-id-2 div.sk-container {/* jupyter's `normalize.less` sets `[hidden] { display: none; }` but bootstrap.min.css set `[hidden] { display: none !important; }` so we also need the `!important` here to be able to override the default hidden behavior on the sphinx rendered scikit-learn.org. See: https://github.com/scikit-learn/scikit-learn/issues/21755 */display: inline-block !important;position: relative;}#sk-container-id-2 div.sk-text-repr-fallback {display: none;}</style><div id=\"sk-container-id-2\" class=\"sk-top-container\"><div class=\"sk-text-repr-fallback\"><pre>DecisionTreeClassifier(max_depth=5, random_state=33)</pre><b>In a Jupyter environment, please rerun this cell to show the HTML representation or trust the notebook. <br />On GitHub, the HTML representation is unable to render, please try loading this page with nbviewer.org.</b></div><div class=\"sk-container\" hidden><div class=\"sk-item\"><div class=\"sk-estimator sk-toggleable\"><input class=\"sk-toggleable__control sk-hidden--visually\" id=\"sk-estimator-id-2\" type=\"checkbox\" checked><label for=\"sk-estimator-id-2\" class=\"sk-toggleable__label sk-toggleable__label-arrow\">DecisionTreeClassifier</label><div class=\"sk-toggleable__content\"><pre>DecisionTreeClassifier(max_depth=5, random_state=33)</pre></div></div></div></div></div>"
      ],
      "text/plain": [
       "DecisionTreeClassifier(max_depth=5, random_state=33)"
      ]
     },
     "execution_count": 13,
     "metadata": {},
     "output_type": "execute_result"
    }
   ],
   "source": [
    "dec_tree_model = DecisionTreeClassifier(max_depth = 5, random_state = 33)\n",
    "dec_tree_model.fit(X_train, y_train)"
   ]
  },
  {
   "cell_type": "code",
   "execution_count": 14,
   "id": "9f2c5b21-28d2-448e-8e00-7ddfe0fa38f2",
   "metadata": {},
   "outputs": [
    {
     "data": {
      "text/plain": [
       "0.9995256941251273"
      ]
     },
     "execution_count": 14,
     "metadata": {},
     "output_type": "execute_result"
    }
   ],
   "source": [
    "dec_tree_model.score(X_test, y_test)"
   ]
  },
  {
   "cell_type": "code",
   "execution_count": 15,
   "id": "daca858a-2f08-450e-b8c9-7260b7a09386",
   "metadata": {},
   "outputs": [
    {
     "name": "stdout",
     "output_type": "stream",
     "text": [
      "accuracy: 99.95256941251273%\n",
      "false positives: 0.04176278143533566%\n",
      "false negatives: 0.005667806051938411%\n"
     ]
    }
   ],
   "source": [
    "print(evaluate(dec_tree_model))"
   ]
  },
  {
   "cell_type": "code",
   "execution_count": 16,
   "id": "a08896cc-0077-46d0-b423-e92d7eef1fac",
   "metadata": {},
   "outputs": [
    {
     "data": {
      "text/plain": [
       "[Text(0.4717741935483871, 0.9166666666666666, 'x[0] <= 3006.5\\ngini = 0.426\\nsamples = 2346586\\nvalue = [722948, 1623638]'),\n",
       " Text(0.24193548387096775, 0.75, 'x[0] <= 2917.5\\ngini = 0.002\\nsamples = 638820\\nvalue = [638195, 625]'),\n",
       " Text(0.16129032258064516, 0.5833333333333334, 'x[0] <= 2581.5\\ngini = 0.001\\nsamples = 637832\\nvalue = [637499, 333]'),\n",
       " Text(0.0967741935483871, 0.4166666666666667, 'x[3] <= 2795565.0\\ngini = 0.0\\nsamples = 634244\\nvalue = [634140, 104]'),\n",
       " Text(0.06451612903225806, 0.25, 'x[0] <= 2402.5\\ngini = 0.0\\nsamples = 634238\\nvalue = [634140, 98]'),\n",
       " Text(0.03225806451612903, 0.08333333333333333, 'gini = 0.0\\nsamples = 630735\\nvalue = [630676, 59]'),\n",
       " Text(0.0967741935483871, 0.08333333333333333, 'gini = 0.022\\nsamples = 3503\\nvalue = [3464, 39]'),\n",
       " Text(0.12903225806451613, 0.25, 'gini = 0.0\\nsamples = 6\\nvalue = [0, 6]'),\n",
       " Text(0.22580645161290322, 0.4166666666666667, 'x[2] <= 1982.5\\ngini = 0.12\\nsamples = 3588\\nvalue = [3359, 229]'),\n",
       " Text(0.1935483870967742, 0.25, 'gini = 0.0\\nsamples = 228\\nvalue = [0, 228]'),\n",
       " Text(0.25806451612903225, 0.25, 'x[1] <= 48.5\\ngini = 0.001\\nsamples = 3360\\nvalue = [3359, 1]'),\n",
       " Text(0.22580645161290322, 0.08333333333333333, 'gini = 0.038\\nsamples = 51\\nvalue = [50, 1]'),\n",
       " Text(0.2903225806451613, 0.08333333333333333, 'gini = 0.0\\nsamples = 3309\\nvalue = [3309, 0]'),\n",
       " Text(0.3225806451612903, 0.5833333333333334, 'x[2] <= 1975.0\\ngini = 0.416\\nsamples = 988\\nvalue = [696, 292]'),\n",
       " Text(0.2903225806451613, 0.4166666666666667, 'gini = 0.0\\nsamples = 292\\nvalue = [0, 292]'),\n",
       " Text(0.3548387096774194, 0.4166666666666667, 'gini = 0.0\\nsamples = 696\\nvalue = [696, 0]'),\n",
       " Text(0.7016129032258065, 0.75, 'x[2] <= 63110.5\\ngini = 0.094\\nsamples = 1707766\\nvalue = [84753, 1623013]'),\n",
       " Text(0.532258064516129, 0.5833333333333334, 'x[3] <= 1976186.0\\ngini = 0.02\\nsamples = 1639737\\nvalue = [16777, 1622960]'),\n",
       " Text(0.41935483870967744, 0.4166666666666667, 'x[1] <= 942.0\\ngini = 0.004\\nsamples = 15796\\nvalue = [15767, 29]'),\n",
       " Text(0.3870967741935484, 0.25, 'gini = 0.0\\nsamples = 24\\nvalue = [0, 24]'),\n",
       " Text(0.45161290322580644, 0.25, 'x[3] <= 1971149.0\\ngini = 0.001\\nsamples = 15772\\nvalue = [15767, 5]'),\n",
       " Text(0.41935483870967744, 0.08333333333333333, 'gini = 0.0\\nsamples = 15767\\nvalue = [15764, 3]'),\n",
       " Text(0.4838709677419355, 0.08333333333333333, 'gini = 0.48\\nsamples = 5\\nvalue = [3, 2]'),\n",
       " Text(0.6451612903225806, 0.4166666666666667, 'x[1] <= 17297.5\\ngini = 0.001\\nsamples = 1623941\\nvalue = [1010, 1622931]'),\n",
       " Text(0.5806451612903226, 0.25, 'x[3] <= 2158608.0\\ngini = 0.001\\nsamples = 1623906\\nvalue = [980, 1622926]'),\n",
       " Text(0.5483870967741935, 0.08333333333333333, 'gini = 0.287\\nsamples = 575\\nvalue = [100, 475]'),\n",
       " Text(0.6129032258064516, 0.08333333333333333, 'gini = 0.001\\nsamples = 1623331\\nvalue = [880, 1622451]'),\n",
       " Text(0.7096774193548387, 0.25, 'x[3] <= 3015030.5\\ngini = 0.245\\nsamples = 35\\nvalue = [30, 5]'),\n",
       " Text(0.6774193548387096, 0.08333333333333333, 'gini = 0.0\\nsamples = 30\\nvalue = [30, 0]'),\n",
       " Text(0.7419354838709677, 0.08333333333333333, 'gini = 0.0\\nsamples = 5\\nvalue = [0, 5]'),\n",
       " Text(0.8709677419354839, 0.5833333333333334, 'x[2] <= 64215.5\\ngini = 0.002\\nsamples = 68029\\nvalue = [67976, 53]'),\n",
       " Text(0.8064516129032258, 0.4166666666666667, 'x[1] <= 1648.5\\ngini = 0.449\\nsamples = 132\\nvalue = [87, 45]'),\n",
       " Text(0.7741935483870968, 0.25, 'gini = 0.0\\nsamples = 45\\nvalue = [0, 45]'),\n",
       " Text(0.8387096774193549, 0.25, 'gini = 0.0\\nsamples = 87\\nvalue = [87, 0]'),\n",
       " Text(0.9354838709677419, 0.4166666666666667, 'x[3] <= 5625306.0\\ngini = 0.0\\nsamples = 67897\\nvalue = [67889, 8]'),\n",
       " Text(0.9032258064516129, 0.25, 'x[1] <= 1.0\\ngini = 0.0\\nsamples = 67895\\nvalue = [67889, 6]'),\n",
       " Text(0.8709677419354839, 0.08333333333333333, 'gini = 0.0\\nsamples = 1\\nvalue = [0, 1]'),\n",
       " Text(0.9354838709677419, 0.08333333333333333, 'gini = 0.0\\nsamples = 67894\\nvalue = [67889, 5]'),\n",
       " Text(0.967741935483871, 0.25, 'gini = 0.0\\nsamples = 2\\nvalue = [0, 2]')]"
      ]
     },
     "execution_count": 16,
     "metadata": {},
     "output_type": "execute_result"
    },
    {
     "data": {
      "image/png": "[encoded data removed]",
      "text/plain": [
       "<Figure size 640x480 with 1 Axes>"
      ]
     },
     "metadata": {},
     "output_type": "display_data"
    }
   ],
   "source": [
    "plot_tree(dec_tree_model)"
   ]
  },
  {
   "cell_type": "code",
   "execution_count": 17,
   "id": "ca0855fd-821d-49ca-9f04-67938d08acdb",
   "metadata": {},
   "outputs": [
    {
     "data": {
      "text/html": [
       "<style>#sk-container-id-3 {color: black;background-color: white;}#sk-container-id-3 pre{padding: 0;}#sk-container-id-3 div.sk-toggleable {background-color: white;}#sk-container-id-3 label.sk-toggleable__label {cursor: pointer;display: block;width: 100%;margin-bottom: 0;padding: 0.3em;box-sizing: border-box;text-align: center;}#sk-container-id-3 label.sk-toggleable__label-arrow:before {content: \"▸\";float: left;margin-right: 0.25em;color: #696969;}#sk-container-id-3 label.sk-toggleable__label-arrow:hover:before {color: black;}#sk-container-id-3 div.sk-estimator:hover label.sk-toggleable__label-arrow:before {color: black;}#sk-container-id-3 div.sk-toggleable__content {max-height: 0;max-width: 0;overflow: hidden;text-align: left;background-color: #f0f8ff;}#sk-container-id-3 div.sk-toggleable__content pre {margin: 0.2em;color: black;border-radius: 0.25em;background-color: #f0f8ff;}#sk-container-id-3 input.sk-toggleable__control:checked~div.sk-toggleable__content {max-height: 200px;max-width: 100%;overflow: auto;}#sk-container-id-3 input.sk-toggleable__control:checked~label.sk-toggleable__label-arrow:before {content: \"▾\";}#sk-container-id-3 div.sk-estimator input.sk-toggleable__control:checked~label.sk-toggleable__label {background-color: #d4ebff;}#sk-container-id-3 div.sk-label input.sk-toggleable__control:checked~label.sk-toggleable__label {background-color: #d4ebff;}#sk-container-id-3 input.sk-hidden--visually {border: 0;clip: rect(1px 1px 1px 1px);clip: rect(1px, 1px, 1px, 1px);height: 1px;margin: -1px;overflow: hidden;padding: 0;position: absolute;width: 1px;}#sk-container-id-3 div.sk-estimator {font-family: monospace;background-color: #f0f8ff;border: 1px dotted black;border-radius: 0.25em;box-sizing: border-box;margin-bottom: 0.5em;}#sk-container-id-3 div.sk-estimator:hover {background-color: #d4ebff;}#sk-container-id-3 div.sk-parallel-item::after {content: \"\";width: 100%;border-bottom: 1px solid gray;flex-grow: 1;}#sk-container-id-3 div.sk-label:hover label.sk-toggleable__label {background-color: #d4ebff;}#sk-container-id-3 div.sk-serial::before {content: \"\";position: absolute;border-left: 1px solid gray;box-sizing: border-box;top: 0;bottom: 0;left: 50%;z-index: 0;}#sk-container-id-3 div.sk-serial {display: flex;flex-direction: column;align-items: center;background-color: white;padding-right: 0.2em;padding-left: 0.2em;position: relative;}#sk-container-id-3 div.sk-item {position: relative;z-index: 1;}#sk-container-id-3 div.sk-parallel {display: flex;align-items: stretch;justify-content: center;background-color: white;position: relative;}#sk-container-id-3 div.sk-item::before, #sk-container-id-3 div.sk-parallel-item::before {content: \"\";position: absolute;border-left: 1px solid gray;box-sizing: border-box;top: 0;bottom: 0;left: 50%;z-index: -1;}#sk-container-id-3 div.sk-parallel-item {display: flex;flex-direction: column;z-index: 1;position: relative;background-color: white;}#sk-container-id-3 div.sk-parallel-item:first-child::after {align-self: flex-end;width: 50%;}#sk-container-id-3 div.sk-parallel-item:last-child::after {align-self: flex-start;width: 50%;}#sk-container-id-3 div.sk-parallel-item:only-child::after {width: 0;}#sk-container-id-3 div.sk-dashed-wrapped {border: 1px dashed gray;margin: 0 0.4em 0.5em 0.4em;box-sizing: border-box;padding-bottom: 0.4em;background-color: white;}#sk-container-id-3 div.sk-label label {font-family: monospace;font-weight: bold;display: inline-block;line-height: 1.2em;}#sk-container-id-3 div.sk-label-container {text-align: center;}#sk-container-id-3 div.sk-container {/* jupyter's `normalize.less` sets `[hidden] { display: none; }` but bootstrap.min.css set `[hidden] { display: none !important; }` so we also need the `!important` here to be able to override the default hidden behavior on the sphinx rendered scikit-learn.org. See: https://github.com/scikit-learn/scikit-learn/issues/21755 */display: inline-block !important;position: relative;}#sk-container-id-3 div.sk-text-repr-fallback {display: none;}</style><div id=\"sk-container-id-3\" class=\"sk-top-container\"><div class=\"sk-text-repr-fallback\"><pre>XGBClassifier(base_score=None, booster=None, callbacks=None,\n",
       "              colsample_bylevel=None, colsample_bynode=None,\n",
       "              colsample_bytree=None, device=None, early_stopping_rounds=None,\n",
       "              enable_categorical=False, eval_metric=None, feature_types=None,\n",
       "              gamma=None, grow_policy=None, importance_type=None,\n",
       "              interaction_constraints=None, learning_rate=None, max_bin=None,\n",
       "              max_cat_threshold=None, max_cat_to_onehot=None,\n",
       "              max_delta_step=None, max_depth=3, max_leaves=None,\n",
       "              min_child_weight=None, missing=nan, monotone_constraints=None,\n",
       "              multi_strategy=None, n_estimators=15, n_jobs=None,\n",
       "              num_parallel_tree=None, random_state=33, ...)</pre><b>In a Jupyter environment, please rerun this cell to show the HTML representation or trust the notebook. <br />On GitHub, the HTML representation is unable to render, please try loading this page with nbviewer.org.</b></div><div class=\"sk-container\" hidden><div class=\"sk-item\"><div class=\"sk-estimator sk-toggleable\"><input class=\"sk-toggleable__control sk-hidden--visually\" id=\"sk-estimator-id-3\" type=\"checkbox\" checked><label for=\"sk-estimator-id-3\" class=\"sk-toggleable__label sk-toggleable__label-arrow\">XGBClassifier</label><div class=\"sk-toggleable__content\"><pre>XGBClassifier(base_score=None, booster=None, callbacks=None,\n",
       "              colsample_bylevel=None, colsample_bynode=None,\n",
       "              colsample_bytree=None, device=None, early_stopping_rounds=None,\n",
       "              enable_categorical=False, eval_metric=None, feature_types=None,\n",
       "              gamma=None, grow_policy=None, importance_type=None,\n",
       "              interaction_constraints=None, learning_rate=None, max_bin=None,\n",
       "              max_cat_threshold=None, max_cat_to_onehot=None,\n",
       "              max_delta_step=None, max_depth=3, max_leaves=None,\n",
       "              min_child_weight=None, missing=nan, monotone_constraints=None,\n",
       "              multi_strategy=None, n_estimators=15, n_jobs=None,\n",
       "              num_parallel_tree=None, random_state=33, ...)</pre></div></div></div></div></div>"
      ],
      "text/plain": [
       "XGBClassifier(base_score=None, booster=None, callbacks=None,\n",
       "              colsample_bylevel=None, colsample_bynode=None,\n",
       "              colsample_bytree=None, device=None, early_stopping_rounds=None,\n",
       "              enable_categorical=False, eval_metric=None, feature_types=None,\n",
       "              gamma=None, grow_policy=None, importance_type=None,\n",
       "              interaction_constraints=None, learning_rate=None, max_bin=None,\n",
       "              max_cat_threshold=None, max_cat_to_onehot=None,\n",
       "              max_delta_step=None, max_depth=3, max_leaves=None,\n",
       "              min_child_weight=None, missing=nan, monotone_constraints=None,\n",
       "              multi_strategy=None, n_estimators=15, n_jobs=None,\n",
       "              num_parallel_tree=None, random_state=33, ...)"
      ]
     },
     "execution_count": 17,
     "metadata": {},
     "output_type": "execute_result"
    }
   ],
   "source": [
    "xgb_model = XGBClassifier(max_depth=3, random_state = 33, n_estimators = 15)\n",
    "xgb_model.fit(X_train, y_train)"
   ]
  },
  {
   "cell_type": "code",
   "execution_count": 18,
   "id": "863e63f8-ad6a-4a14-aa0f-abfc6bbf18f7",
   "metadata": {},
   "outputs": [
    {
     "data": {
      "text/plain": [
       "0.999451970031369"
      ]
     },
     "execution_count": 18,
     "metadata": {},
     "output_type": "execute_result"
    }
   ],
   "source": [
    "xgb_model.score(X_test, y_test)"
   ]
  },
  {
   "cell_type": "code",
   "execution_count": 19,
   "id": "e3de9b5d-4091-4555-858f-0183da4ba916",
   "metadata": {},
   "outputs": [
    {
     "name": "stdout",
     "output_type": "stream",
     "text": [
      "accuracy: 99.9451970031369%\n",
      "false positives: 0.035072213389062495%\n",
      "false negatives: 0.019730783474041235%\n"
     ]
    }
   ],
   "source": [
    "print(evaluate(xgb_model))"
   ]
  },
  {
   "cell_type": "code",
   "execution_count": 20,
   "id": "64a11677-bbed-4afa-8699-f25df59769ab",
   "metadata": {},
   "outputs": [
    {
     "name": "stdout",
     "output_type": "stream",
     "text": [
      "Learning rate set to 0.5\n",
      "0:\tlearn: 0.3149792\ttotal: 115ms\tremaining: 1.61s\n",
      "1:\tlearn: 0.1730286\ttotal: 166ms\tremaining: 1.07s\n",
      "2:\tlearn: 0.1010933\ttotal: 215ms\tremaining: 861ms\n",
      "3:\tlearn: 0.0609260\ttotal: 264ms\tremaining: 727ms\n",
      "4:\tlearn: 0.0386850\ttotal: 310ms\tremaining: 621ms\n",
      "5:\tlearn: 0.0246355\ttotal: 357ms\tremaining: 535ms\n",
      "6:\tlearn: 0.0160709\ttotal: 408ms\tremaining: 466ms\n",
      "7:\tlearn: 0.0107052\ttotal: 461ms\tremaining: 404ms\n",
      "8:\tlearn: 0.0074136\ttotal: 516ms\tremaining: 344ms\n",
      "9:\tlearn: 0.0054121\ttotal: 570ms\tremaining: 285ms\n",
      "10:\tlearn: 0.0038517\ttotal: 623ms\tremaining: 227ms\n",
      "11:\tlearn: 0.0027336\ttotal: 677ms\tremaining: 169ms\n",
      "12:\tlearn: 0.0022532\ttotal: 729ms\tremaining: 112ms\n",
      "13:\tlearn: 0.0016630\ttotal: 781ms\tremaining: 55.8ms\n",
      "14:\tlearn: 0.0011884\ttotal: 831ms\tremaining: 0us\n"
     ]
    },
    {
     "data": {
      "text/plain": [
       "<catboost.core.CatBoostClassifier at 0x7f9d5c987c10>"
      ]
     },
     "execution_count": 20,
     "metadata": {},
     "output_type": "execute_result"
    }
   ],
   "source": [
    "cb_model = CatBoostClassifier(n_estimators = 15, random_state = 33, max_depth = 3)\n",
    "cb_model.fit(X_train, y_train)"
   ]
  },
  {
   "cell_type": "code",
   "execution_count": 21,
   "id": "65f1f753-a48c-47eb-831b-cf167d9e2230",
   "metadata": {},
   "outputs": [
    {
     "data": {
      "text/plain": [
       "0.9998585179241171"
      ]
     },
     "execution_count": 21,
     "metadata": {},
     "output_type": "execute_result"
    }
   ],
   "source": [
    "cb_model.score(X_test, y_test)"
   ]
  },
  {
   "cell_type": "code",
   "execution_count": 22,
   "id": "8ea91fe4-3bfa-4abe-a157-19e41d51bcab",
   "metadata": {},
   "outputs": [
    {
     "name": "stdout",
     "output_type": "stream",
     "text": [
      "accuracy: 99.98585179241171%\n",
      "false positives: 0.011974838350336041%\n",
      "false negatives: 0.0021733692379613456%\n"
     ]
    }
   ],
   "source": [
    "print(evaluate(cb_model))"
   ]
  },
  {
   "cell_type": "code",
   "execution_count": 23,
   "id": "c72b9c66-ff5a-4033-92c5-19011c4b693f",
   "metadata": {},
   "outputs": [
    {
     "data": {
      "text/plain": [
       "3247867"
      ]
     },
     "execution_count": 23,
     "metadata": {},
     "output_type": "execute_result"
    }
   ],
   "source": [
    "labels.sum()"
   ]
  },
  {
   "cell_type": "code",
   "execution_count": 24,
   "id": "7f799a2e-c2d6-4afe-a458-6beceaf98b16",
   "metadata": {},
   "outputs": [
    {
     "data": {
      "text/plain": [
       "4693173"
      ]
     },
     "execution_count": 24,
     "metadata": {},
     "output_type": "execute_result"
    }
   ],
   "source": [
    "len(labels)"
   ]
  },
  {
   "cell_type": "code",
   "execution_count": 25,
   "id": "eeb25670-03f5-477b-b818-f428c64feeb4",
   "metadata": {},
   "outputs": [
    {
     "data": {
      "text/plain": [
       "69.20407579264604"
      ]
     },
     "execution_count": 25,
     "metadata": {},
     "output_type": "execute_result"
    }
   ],
   "source": [
    "labels.sum()*100.0/len(labels) # percentage of attack samples"
   ]
  },
  {
   "cell_type": "code",
   "execution_count": 26,
   "id": "b8a18d47-a5c7-49eb-a4c6-3bb425b5166b",
   "metadata": {},
   "outputs": [
    {
     "name": "stdout",
     "output_type": "stream",
     "text": [
      "average time for log_reg_model: 15.44459634354064ns,\n",
      "number of samples: 2346587\n"
     ]
    }
   ],
   "source": [
    "start = thread_time_ns()\n",
    "log_reg_model.predict(X_test)\n",
    "stop = thread_time_ns()\n",
    "log_reg_time = (stop - start)/len(y_test)\n",
    "print(f'average time for log_reg_model: {log_reg_time}ns,\\nnumber of samples: {len(y_test)}')"
   ]
  },
  {
   "cell_type": "code",
   "execution_count": 27,
   "id": "d861370c-f4d8-4624-ae4c-b81d3e4f5e06",
   "metadata": {},
   "outputs": [
    {
     "name": "stdout",
     "output_type": "stream",
     "text": [
      "average time for dec_tree_model: 27.294051744086197ns,\n",
      "number of samples: 2346587\n"
     ]
    }
   ],
   "source": [
    "start = thread_time_ns()\n",
    "dec_tree_model.predict(X_test)\n",
    "stop = thread_time_ns()\n",
    "dec_tree_time = (stop - start)/len(y_test)\n",
    "print(f'average time for dec_tree_model: {dec_tree_time}ns,\\nnumber of samples: {len(y_test)}')"
   ]
  },
  {
   "cell_type": "code",
   "execution_count": 28,
   "id": "e31c37a3-711c-4da9-867b-138e8e6d197d",
   "metadata": {},
   "outputs": [
    {
     "name": "stdout",
     "output_type": "stream",
     "text": [
      "average time for cb_model: 66.61351784527912ns,\n",
      "number of samples: 2346587\n"
     ]
    }
   ],
   "source": [
    "start = thread_time_ns()\n",
    "cb_model.predict(X_test)\n",
    "stop = thread_time_ns()\n",
    "cb_time = (stop - start)/len(y_test)\n",
    "print(f'average time for cb_model: {cb_time}ns,\\nnumber of samples: {len(y_test)}')"
   ]
  },
  {
   "cell_type": "code",
   "execution_count": 29,
   "id": "ea73cba5-ef5d-4832-8d11-9cb6dbab60bf",
   "metadata": {},
   "outputs": [
    {
     "name": "stdout",
     "output_type": "stream",
     "text": [
      "attack: 6.5999697858996464%\n",
      "no_flush: 5.9214309807032475%\n",
      "random: 13.050147522795346%\n",
      "attack_ntmp: 10.372215130360633%\n",
      "stream: 11.824345703855366%\n",
      "rh4: 8.75132879184296%\n",
      "rh8: 8.723905980026732%\n",
      "rh9: 8.753523469090101%\n",
      "rh10: 8.31377833291038%\n",
      "rh20: 7.485511401348299%\n",
      "double_sided: 10.203842901167292%\n",
      "total = 100.0\n",
      "samples: 4693173\n"
     ]
    }
   ],
   "source": [
    "code_types = ['attack', 'no_flush', 'random', 'attack_ntmp', 'stream', 'rh4', 'rh8', 'rh9', 'rh10', 'rh20', 'double_sided']\n",
    "n = df.index.size\n",
    "s = 0\n",
    "for ct in code_types:\n",
    "    m = df.loc[df['code_type'] == ct].index.size\n",
    "    print(f'{ct}: {m*100/n}%')\n",
    "    s += m*100/n\n",
    "print(f'total = {s}')\n",
    "print(f'samples: {n}')"
   ]
  },
  {
   "cell_type": "code",
   "execution_count": null,
   "id": "b3b99ede-8a75-4d5d-bfc7-bda5d0a5496b",
   "metadata": {},
   "outputs": [],
   "source": []
  }
 ],
 "metadata": {
  "kernelspec": {
   "display_name": "Python 3 (ipykernel)",
   "language": "python",
   "name": "python3"
  },
  "language_info": {
   "codemirror_mode": {
    "name": "ipython",
    "version": 3
   },
   "file_extension": ".py",
   "mimetype": "text/x-python",
   "name": "python",
   "nbconvert_exporter": "python",
   "pygments_lexer": "ipython3",
   "version": "3.11.7"
  }
 },
 "nbformat": 4,
 "nbformat_minor": 5
}
