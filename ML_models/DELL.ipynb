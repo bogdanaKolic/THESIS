{
 "cells": [
  {
   "cell_type": "code",
   "execution_count": 1,
   "id": "86859e7c-975d-442c-9463-9f8e009e9cca",
   "metadata": {},
   "outputs": [],
   "source": [
    "%matplotlib inline\n",
    "import pandas as pd\n",
    "import numpy as np\n",
    "import matplotlib.pyplot as plt\n",
    "\n",
    "from sklearn.model_selection import train_test_split\n",
    "\n",
    "from sklearn.linear_model import LogisticRegression\n",
    "from sklearn.tree import DecisionTreeClassifier\n",
    "from sklearn.tree import plot_tree\n",
    "from xgboost import XGBClassifier\n",
    "from catboost import CatBoostClassifier\n",
    "\n",
    "from sklearn.metrics import confusion_matrix\n",
    "\n",
    "from time import thread_time_ns"
   ]
  },
  {
   "cell_type": "code",
   "execution_count": 2,
   "id": "2c66e8cf-c39d-45da-9b39-e84063256c6e",
   "metadata": {},
   "outputs": [],
   "source": [
    "df = pd.read_csv('dell_data.csv')"
   ]
  },
  {
   "cell_type": "code",
   "execution_count": 3,
   "id": "e5933762-dc05-47d7-8732-7f09bd06faab",
   "metadata": {},
   "outputs": [
    {
     "name": "stdout",
     "output_type": "stream",
     "text": [
      "<class 'pandas.core.frame.DataFrame'>\n",
      "RangeIndex: 2683708 entries, 0 to 2683707\n",
      "Data columns (total 9 columns):\n",
      " #   Column     Dtype  \n",
      "---  ------     -----  \n",
      " 0   laptop     object \n",
      " 1   load       int64  \n",
      " 2   code_type  object \n",
      " 3   timestamp  float64\n",
      " 4   llcm       int64  \n",
      " 5   l2ch       int64  \n",
      " 6   l1ch       int64  \n",
      " 7   stalls     int64  \n",
      " 8   label      object \n",
      "dtypes: float64(1), int64(5), object(3)\n",
      "memory usage: 184.3+ MB\n"
     ]
    }
   ],
   "source": [
    "df.info()"
   ]
  },
  {
   "cell_type": "code",
   "execution_count": 4,
   "id": "603cb7d0-a41d-43a6-94ac-95d4cece2526",
   "metadata": {},
   "outputs": [
    {
     "name": "stdout",
     "output_type": "stream",
     "text": [
      "<class 'pandas.core.frame.DataFrame'>\n",
      "RangeIndex: 2683708 entries, 0 to 2683707\n",
      "Data columns (total 9 columns):\n",
      " #   Column     Dtype  \n",
      "---  ------     -----  \n",
      " 0   laptop     object \n",
      " 1   load       int64  \n",
      " 2   code_type  object \n",
      " 3   timestamp  float64\n",
      " 4   llcm       int64  \n",
      " 5   l2ch       int64  \n",
      " 6   l1ch       int64  \n",
      " 7   stalls     int64  \n",
      " 8   label      object \n",
      "dtypes: float64(1), int64(5), object(3)\n",
      "memory usage: 184.3+ MB\n"
     ]
    }
   ],
   "source": [
    "df.dropna(inplace=True)\n",
    "df.info()"
   ]
  },
  {
   "cell_type": "code",
   "execution_count": 5,
   "id": "684ba58c-d6f3-4ba8-b246-553cbfe75b75",
   "metadata": {},
   "outputs": [
    {
     "data": {
      "text/html": [
       "<div>\n",
       "<style scoped>\n",
       "    .dataframe tbody tr th:only-of-type {\n",
       "        vertical-align: middle;\n",
       "    }\n",
       "\n",
       "    .dataframe tbody tr th {\n",
       "        vertical-align: top;\n",
       "    }\n",
       "\n",
       "    .dataframe thead th {\n",
       "        text-align: right;\n",
       "    }\n",
       "</style>\n",
       "<table border=\"1\" class=\"dataframe\">\n",
       "  <thead>\n",
       "    <tr style=\"text-align: right;\">\n",
       "      <th></th>\n",
       "      <th>load</th>\n",
       "      <th>timestamp</th>\n",
       "      <th>llcm</th>\n",
       "      <th>l2ch</th>\n",
       "      <th>l1ch</th>\n",
       "      <th>stalls</th>\n",
       "    </tr>\n",
       "  </thead>\n",
       "  <tbody>\n",
       "    <tr>\n",
       "      <th>count</th>\n",
       "      <td>2.683708e+06</td>\n",
       "      <td>2.683708e+06</td>\n",
       "      <td>2.683708e+06</td>\n",
       "      <td>2.683708e+06</td>\n",
       "      <td>2.683708e+06</td>\n",
       "      <td>2.683708e+06</td>\n",
       "    </tr>\n",
       "    <tr>\n",
       "      <th>mean</th>\n",
       "      <td>5.310500e+00</td>\n",
       "      <td>1.546330e+02</td>\n",
       "      <td>2.305793e+04</td>\n",
       "      <td>1.168299e+04</td>\n",
       "      <td>3.095153e+05</td>\n",
       "      <td>4.071005e+06</td>\n",
       "    </tr>\n",
       "    <tr>\n",
       "      <th>std</th>\n",
       "      <td>3.779232e+00</td>\n",
       "      <td>1.388007e+02</td>\n",
       "      <td>5.537775e+04</td>\n",
       "      <td>3.008037e+04</td>\n",
       "      <td>7.219926e+05</td>\n",
       "      <td>1.875140e+06</td>\n",
       "    </tr>\n",
       "    <tr>\n",
       "      <th>min</th>\n",
       "      <td>0.000000e+00</td>\n",
       "      <td>1.060122e-03</td>\n",
       "      <td>0.000000e+00</td>\n",
       "      <td>0.000000e+00</td>\n",
       "      <td>0.000000e+00</td>\n",
       "      <td>0.000000e+00</td>\n",
       "    </tr>\n",
       "    <tr>\n",
       "      <th>25%</th>\n",
       "      <td>0.000000e+00</td>\n",
       "      <td>4.855220e+01</td>\n",
       "      <td>4.504000e+03</td>\n",
       "      <td>0.000000e+00</td>\n",
       "      <td>2.240000e+02</td>\n",
       "      <td>3.262907e+06</td>\n",
       "    </tr>\n",
       "    <tr>\n",
       "      <th>50%</th>\n",
       "      <td>8.000000e+00</td>\n",
       "      <td>9.587421e+01</td>\n",
       "      <td>1.031400e+04</td>\n",
       "      <td>1.000000e+00</td>\n",
       "      <td>2.533600e+04</td>\n",
       "      <td>4.201836e+06</td>\n",
       "    </tr>\n",
       "    <tr>\n",
       "      <th>75%</th>\n",
       "      <td>8.000000e+00</td>\n",
       "      <td>2.344870e+02</td>\n",
       "      <td>1.954100e+04</td>\n",
       "      <td>1.540000e+02</td>\n",
       "      <td>7.387300e+04</td>\n",
       "      <td>5.327620e+06</td>\n",
       "    </tr>\n",
       "    <tr>\n",
       "      <th>max</th>\n",
       "      <td>8.000000e+00</td>\n",
       "      <td>6.251454e+02</td>\n",
       "      <td>7.497388e+06</td>\n",
       "      <td>2.107480e+06</td>\n",
       "      <td>5.246573e+07</td>\n",
       "      <td>1.367443e+08</td>\n",
       "    </tr>\n",
       "  </tbody>\n",
       "</table>\n",
       "</div>"
      ],
      "text/plain": [
       "               load     timestamp          llcm          l2ch          l1ch  \\\n",
       "count  2.683708e+06  2.683708e+06  2.683708e+06  2.683708e+06  2.683708e+06   \n",
       "mean   5.310500e+00  1.546330e+02  2.305793e+04  1.168299e+04  3.095153e+05   \n",
       "std    3.779232e+00  1.388007e+02  5.537775e+04  3.008037e+04  7.219926e+05   \n",
       "min    0.000000e+00  1.060122e-03  0.000000e+00  0.000000e+00  0.000000e+00   \n",
       "25%    0.000000e+00  4.855220e+01  4.504000e+03  0.000000e+00  2.240000e+02   \n",
       "50%    8.000000e+00  9.587421e+01  1.031400e+04  1.000000e+00  2.533600e+04   \n",
       "75%    8.000000e+00  2.344870e+02  1.954100e+04  1.540000e+02  7.387300e+04   \n",
       "max    8.000000e+00  6.251454e+02  7.497388e+06  2.107480e+06  5.246573e+07   \n",
       "\n",
       "             stalls  \n",
       "count  2.683708e+06  \n",
       "mean   4.071005e+06  \n",
       "std    1.875140e+06  \n",
       "min    0.000000e+00  \n",
       "25%    3.262907e+06  \n",
       "50%    4.201836e+06  \n",
       "75%    5.327620e+06  \n",
       "max    1.367443e+08  "
      ]
     },
     "execution_count": 5,
     "metadata": {},
     "output_type": "execute_result"
    }
   ],
   "source": [
    "df.describe()"
   ]
  },
  {
   "cell_type": "code",
   "execution_count": 6,
   "id": "e7e3f2ee-29e8-48e8-8acf-acfd75d46c80",
   "metadata": {},
   "outputs": [
    {
     "data": {
      "text/html": [
       "<div>\n",
       "<style scoped>\n",
       "    .dataframe tbody tr th:only-of-type {\n",
       "        vertical-align: middle;\n",
       "    }\n",
       "\n",
       "    .dataframe tbody tr th {\n",
       "        vertical-align: top;\n",
       "    }\n",
       "\n",
       "    .dataframe thead th {\n",
       "        text-align: right;\n",
       "    }\n",
       "</style>\n",
       "<table border=\"1\" class=\"dataframe\">\n",
       "  <thead>\n",
       "    <tr style=\"text-align: right;\">\n",
       "      <th></th>\n",
       "      <th>llcm</th>\n",
       "      <th>l2ch</th>\n",
       "      <th>l1ch</th>\n",
       "      <th>stalls</th>\n",
       "    </tr>\n",
       "  </thead>\n",
       "  <tbody>\n",
       "    <tr>\n",
       "      <th>0</th>\n",
       "      <td>193</td>\n",
       "      <td>1228</td>\n",
       "      <td>22663</td>\n",
       "      <td>183581</td>\n",
       "    </tr>\n",
       "    <tr>\n",
       "      <th>1</th>\n",
       "      <td>4159</td>\n",
       "      <td>17</td>\n",
       "      <td>335</td>\n",
       "      <td>1102570</td>\n",
       "    </tr>\n",
       "    <tr>\n",
       "      <th>2</th>\n",
       "      <td>5326</td>\n",
       "      <td>1</td>\n",
       "      <td>40</td>\n",
       "      <td>1259932</td>\n",
       "    </tr>\n",
       "    <tr>\n",
       "      <th>3</th>\n",
       "      <td>7404</td>\n",
       "      <td>0</td>\n",
       "      <td>44</td>\n",
       "      <td>1645650</td>\n",
       "    </tr>\n",
       "    <tr>\n",
       "      <th>4</th>\n",
       "      <td>9092</td>\n",
       "      <td>0</td>\n",
       "      <td>40</td>\n",
       "      <td>1961196</td>\n",
       "    </tr>\n",
       "    <tr>\n",
       "      <th>...</th>\n",
       "      <td>...</td>\n",
       "      <td>...</td>\n",
       "      <td>...</td>\n",
       "      <td>...</td>\n",
       "    </tr>\n",
       "    <tr>\n",
       "      <th>2683703</th>\n",
       "      <td>30605</td>\n",
       "      <td>10457</td>\n",
       "      <td>85170</td>\n",
       "      <td>3001858</td>\n",
       "    </tr>\n",
       "    <tr>\n",
       "      <th>2683704</th>\n",
       "      <td>29673</td>\n",
       "      <td>10124</td>\n",
       "      <td>84262</td>\n",
       "      <td>3053143</td>\n",
       "    </tr>\n",
       "    <tr>\n",
       "      <th>2683705</th>\n",
       "      <td>30237</td>\n",
       "      <td>10537</td>\n",
       "      <td>79863</td>\n",
       "      <td>3026170</td>\n",
       "    </tr>\n",
       "    <tr>\n",
       "      <th>2683706</th>\n",
       "      <td>28959</td>\n",
       "      <td>10085</td>\n",
       "      <td>77161</td>\n",
       "      <td>2892587</td>\n",
       "    </tr>\n",
       "    <tr>\n",
       "      <th>2683707</th>\n",
       "      <td>25415</td>\n",
       "      <td>9290</td>\n",
       "      <td>68602</td>\n",
       "      <td>2833659</td>\n",
       "    </tr>\n",
       "  </tbody>\n",
       "</table>\n",
       "<p>2683708 rows × 4 columns</p>\n",
       "</div>"
      ],
      "text/plain": [
       "          llcm   l2ch   l1ch   stalls\n",
       "0          193   1228  22663   183581\n",
       "1         4159     17    335  1102570\n",
       "2         5326      1     40  1259932\n",
       "3         7404      0     44  1645650\n",
       "4         9092      0     40  1961196\n",
       "...        ...    ...    ...      ...\n",
       "2683703  30605  10457  85170  3001858\n",
       "2683704  29673  10124  84262  3053143\n",
       "2683705  30237  10537  79863  3026170\n",
       "2683706  28959  10085  77161  2892587\n",
       "2683707  25415   9290  68602  2833659\n",
       "\n",
       "[2683708 rows x 4 columns]"
      ]
     },
     "execution_count": 6,
     "metadata": {},
     "output_type": "execute_result"
    }
   ],
   "source": [
    "samples=df.drop(columns=['label', 'code_type', 'timestamp', 'load', 'laptop'])\n",
    "#samples['laptop'].replace(['lenovo', 'asus', 'dell'], [1, 2, 3], inplace=True)\n",
    "#samples['laptop'] = samples['laptop'].astype(\"int64\")\n",
    "samples"
   ]
  },
  {
   "cell_type": "code",
   "execution_count": 7,
   "id": "bf94d654-3b5c-48ab-9a5d-944cce9cd11a",
   "metadata": {},
   "outputs": [
    {
     "data": {
      "text/plain": [
       "0          1\n",
       "1          1\n",
       "2          1\n",
       "3          1\n",
       "4          1\n",
       "          ..\n",
       "2683703    0\n",
       "2683704    0\n",
       "2683705    0\n",
       "2683706    0\n",
       "2683707    0\n",
       "Name: label, Length: 2683708, dtype: int64"
      ]
     },
     "execution_count": 7,
     "metadata": {},
     "output_type": "execute_result"
    }
   ],
   "source": [
    "labels = df['label'].replace(['no_attack', 'attack'], [0, 1])\n",
    "labels = labels.astype('int64')\n",
    "labels"
   ]
  },
  {
   "cell_type": "code",
   "execution_count": 8,
   "id": "bee3bdd8-8309-4ba1-bac3-9dc6ebea843e",
   "metadata": {},
   "outputs": [],
   "source": [
    "X_train, X_test, y_train, y_test = train_test_split(samples, labels, train_size = 0.5, random_state= 33, shuffle = True)"
   ]
  },
  {
   "cell_type": "code",
   "execution_count": 9,
   "id": "dde23be7-895c-4653-b421-c5ef5f89be2c",
   "metadata": {},
   "outputs": [],
   "source": [
    "def evaluate(model):\n",
    "    # https://stackoverflow.com/questions/31324218/scikit-learn-how-to-obtain-true-positive-true-negative-false-positive-and-fal\n",
    "    y_pred = model.predict(X_test)\n",
    "    tn, fp, fn, tp = confusion_matrix(y_test, y_pred, labels=[0, 1]).ravel()\n",
    "    n = tn + fp + fn + tp\n",
    "    print((tn, tp, fn, fp))\n",
    "    return f'accuracy: {(tp+tn)*100.0/n}%\\nfalse positives: {fp*100.0/n}%\\nfalse negatives: {fn*100.0/n}%'"
   ]
  },
  {
   "cell_type": "code",
   "execution_count": 10,
   "id": "060775fa-19b0-41cc-a209-b76b9d026408",
   "metadata": {},
   "outputs": [
    {
     "data": {
      "text/html": [
       "<style>#sk-container-id-1 {color: black;background-color: white;}#sk-container-id-1 pre{padding: 0;}#sk-container-id-1 div.sk-toggleable {background-color: white;}#sk-container-id-1 label.sk-toggleable__label {cursor: pointer;display: block;width: 100%;margin-bottom: 0;padding: 0.3em;box-sizing: border-box;text-align: center;}#sk-container-id-1 label.sk-toggleable__label-arrow:before {content: \"▸\";float: left;margin-right: 0.25em;color: #696969;}#sk-container-id-1 label.sk-toggleable__label-arrow:hover:before {color: black;}#sk-container-id-1 div.sk-estimator:hover label.sk-toggleable__label-arrow:before {color: black;}#sk-container-id-1 div.sk-toggleable__content {max-height: 0;max-width: 0;overflow: hidden;text-align: left;background-color: #f0f8ff;}#sk-container-id-1 div.sk-toggleable__content pre {margin: 0.2em;color: black;border-radius: 0.25em;background-color: #f0f8ff;}#sk-container-id-1 input.sk-toggleable__control:checked~div.sk-toggleable__content {max-height: 200px;max-width: 100%;overflow: auto;}#sk-container-id-1 input.sk-toggleable__control:checked~label.sk-toggleable__label-arrow:before {content: \"▾\";}#sk-container-id-1 div.sk-estimator input.sk-toggleable__control:checked~label.sk-toggleable__label {background-color: #d4ebff;}#sk-container-id-1 div.sk-label input.sk-toggleable__control:checked~label.sk-toggleable__label {background-color: #d4ebff;}#sk-container-id-1 input.sk-hidden--visually {border: 0;clip: rect(1px 1px 1px 1px);clip: rect(1px, 1px, 1px, 1px);height: 1px;margin: -1px;overflow: hidden;padding: 0;position: absolute;width: 1px;}#sk-container-id-1 div.sk-estimator {font-family: monospace;background-color: #f0f8ff;border: 1px dotted black;border-radius: 0.25em;box-sizing: border-box;margin-bottom: 0.5em;}#sk-container-id-1 div.sk-estimator:hover {background-color: #d4ebff;}#sk-container-id-1 div.sk-parallel-item::after {content: \"\";width: 100%;border-bottom: 1px solid gray;flex-grow: 1;}#sk-container-id-1 div.sk-label:hover label.sk-toggleable__label {background-color: #d4ebff;}#sk-container-id-1 div.sk-serial::before {content: \"\";position: absolute;border-left: 1px solid gray;box-sizing: border-box;top: 0;bottom: 0;left: 50%;z-index: 0;}#sk-container-id-1 div.sk-serial {display: flex;flex-direction: column;align-items: center;background-color: white;padding-right: 0.2em;padding-left: 0.2em;position: relative;}#sk-container-id-1 div.sk-item {position: relative;z-index: 1;}#sk-container-id-1 div.sk-parallel {display: flex;align-items: stretch;justify-content: center;background-color: white;position: relative;}#sk-container-id-1 div.sk-item::before, #sk-container-id-1 div.sk-parallel-item::before {content: \"\";position: absolute;border-left: 1px solid gray;box-sizing: border-box;top: 0;bottom: 0;left: 50%;z-index: -1;}#sk-container-id-1 div.sk-parallel-item {display: flex;flex-direction: column;z-index: 1;position: relative;background-color: white;}#sk-container-id-1 div.sk-parallel-item:first-child::after {align-self: flex-end;width: 50%;}#sk-container-id-1 div.sk-parallel-item:last-child::after {align-self: flex-start;width: 50%;}#sk-container-id-1 div.sk-parallel-item:only-child::after {width: 0;}#sk-container-id-1 div.sk-dashed-wrapped {border: 1px dashed gray;margin: 0 0.4em 0.5em 0.4em;box-sizing: border-box;padding-bottom: 0.4em;background-color: white;}#sk-container-id-1 div.sk-label label {font-family: monospace;font-weight: bold;display: inline-block;line-height: 1.2em;}#sk-container-id-1 div.sk-label-container {text-align: center;}#sk-container-id-1 div.sk-container {/* jupyter's `normalize.less` sets `[hidden] { display: none; }` but bootstrap.min.css set `[hidden] { display: none !important; }` so we also need the `!important` here to be able to override the default hidden behavior on the sphinx rendered scikit-learn.org. See: https://github.com/scikit-learn/scikit-learn/issues/21755 */display: inline-block !important;position: relative;}#sk-container-id-1 div.sk-text-repr-fallback {display: none;}</style><div id=\"sk-container-id-1\" class=\"sk-top-container\"><div class=\"sk-text-repr-fallback\"><pre>LogisticRegression(random_state=33)</pre><b>In a Jupyter environment, please rerun this cell to show the HTML representation or trust the notebook. <br />On GitHub, the HTML representation is unable to render, please try loading this page with nbviewer.org.</b></div><div class=\"sk-container\" hidden><div class=\"sk-item\"><div class=\"sk-estimator sk-toggleable\"><input class=\"sk-toggleable__control sk-hidden--visually\" id=\"sk-estimator-id-1\" type=\"checkbox\" checked><label for=\"sk-estimator-id-1\" class=\"sk-toggleable__label sk-toggleable__label-arrow\">LogisticRegression</label><div class=\"sk-toggleable__content\"><pre>LogisticRegression(random_state=33)</pre></div></div></div></div></div>"
      ],
      "text/plain": [
       "LogisticRegression(random_state=33)"
      ]
     },
     "execution_count": 10,
     "metadata": {},
     "output_type": "execute_result"
    }
   ],
   "source": [
    "log_reg_model = LogisticRegression(random_state=33)\n",
    "log_reg_model.fit(X_train, y_train)"
   ]
  },
  {
   "cell_type": "code",
   "execution_count": 11,
   "id": "590d2c24-415f-4c87-bba0-9617e23f6240",
   "metadata": {},
   "outputs": [
    {
     "data": {
      "text/plain": [
       "0.998993184057282"
      ]
     },
     "execution_count": 11,
     "metadata": {},
     "output_type": "execute_result"
    }
   ],
   "source": [
    "log_reg_model.score(X_test, y_test)"
   ]
  },
  {
   "cell_type": "code",
   "execution_count": 12,
   "id": "c70551dd-84bc-43fc-85be-4951d9e322e4",
   "metadata": {},
   "outputs": [
    {
     "name": "stdout",
     "output_type": "stream",
     "text": [
      "(284927, 1055576, 449, 902)\n",
      "accuracy: 99.8993184057282%\n",
      "false positives: 0.06722042785578759%\n",
      "false negatives: 0.033461166416018435%\n"
     ]
    }
   ],
   "source": [
    "print(evaluate(log_reg_model))"
   ]
  },
  {
   "cell_type": "code",
   "execution_count": 13,
   "id": "2f2497cb-d48c-4995-95cb-5d30ede45d6a",
   "metadata": {},
   "outputs": [
    {
     "data": {
      "text/html": [
       "<style>#sk-container-id-2 {color: black;background-color: white;}#sk-container-id-2 pre{padding: 0;}#sk-container-id-2 div.sk-toggleable {background-color: white;}#sk-container-id-2 label.sk-toggleable__label {cursor: pointer;display: block;width: 100%;margin-bottom: 0;padding: 0.3em;box-sizing: border-box;text-align: center;}#sk-container-id-2 label.sk-toggleable__label-arrow:before {content: \"▸\";float: left;margin-right: 0.25em;color: #696969;}#sk-container-id-2 label.sk-toggleable__label-arrow:hover:before {color: black;}#sk-container-id-2 div.sk-estimator:hover label.sk-toggleable__label-arrow:before {color: black;}#sk-container-id-2 div.sk-toggleable__content {max-height: 0;max-width: 0;overflow: hidden;text-align: left;background-color: #f0f8ff;}#sk-container-id-2 div.sk-toggleable__content pre {margin: 0.2em;color: black;border-radius: 0.25em;background-color: #f0f8ff;}#sk-container-id-2 input.sk-toggleable__control:checked~div.sk-toggleable__content {max-height: 200px;max-width: 100%;overflow: auto;}#sk-container-id-2 input.sk-toggleable__control:checked~label.sk-toggleable__label-arrow:before {content: \"▾\";}#sk-container-id-2 div.sk-estimator input.sk-toggleable__control:checked~label.sk-toggleable__label {background-color: #d4ebff;}#sk-container-id-2 div.sk-label input.sk-toggleable__control:checked~label.sk-toggleable__label {background-color: #d4ebff;}#sk-container-id-2 input.sk-hidden--visually {border: 0;clip: rect(1px 1px 1px 1px);clip: rect(1px, 1px, 1px, 1px);height: 1px;margin: -1px;overflow: hidden;padding: 0;position: absolute;width: 1px;}#sk-container-id-2 div.sk-estimator {font-family: monospace;background-color: #f0f8ff;border: 1px dotted black;border-radius: 0.25em;box-sizing: border-box;margin-bottom: 0.5em;}#sk-container-id-2 div.sk-estimator:hover {background-color: #d4ebff;}#sk-container-id-2 div.sk-parallel-item::after {content: \"\";width: 100%;border-bottom: 1px solid gray;flex-grow: 1;}#sk-container-id-2 div.sk-label:hover label.sk-toggleable__label {background-color: #d4ebff;}#sk-container-id-2 div.sk-serial::before {content: \"\";position: absolute;border-left: 1px solid gray;box-sizing: border-box;top: 0;bottom: 0;left: 50%;z-index: 0;}#sk-container-id-2 div.sk-serial {display: flex;flex-direction: column;align-items: center;background-color: white;padding-right: 0.2em;padding-left: 0.2em;position: relative;}#sk-container-id-2 div.sk-item {position: relative;z-index: 1;}#sk-container-id-2 div.sk-parallel {display: flex;align-items: stretch;justify-content: center;background-color: white;position: relative;}#sk-container-id-2 div.sk-item::before, #sk-container-id-2 div.sk-parallel-item::before {content: \"\";position: absolute;border-left: 1px solid gray;box-sizing: border-box;top: 0;bottom: 0;left: 50%;z-index: -1;}#sk-container-id-2 div.sk-parallel-item {display: flex;flex-direction: column;z-index: 1;position: relative;background-color: white;}#sk-container-id-2 div.sk-parallel-item:first-child::after {align-self: flex-end;width: 50%;}#sk-container-id-2 div.sk-parallel-item:last-child::after {align-self: flex-start;width: 50%;}#sk-container-id-2 div.sk-parallel-item:only-child::after {width: 0;}#sk-container-id-2 div.sk-dashed-wrapped {border: 1px dashed gray;margin: 0 0.4em 0.5em 0.4em;box-sizing: border-box;padding-bottom: 0.4em;background-color: white;}#sk-container-id-2 div.sk-label label {font-family: monospace;font-weight: bold;display: inline-block;line-height: 1.2em;}#sk-container-id-2 div.sk-label-container {text-align: center;}#sk-container-id-2 div.sk-container {/* jupyter's `normalize.less` sets `[hidden] { display: none; }` but bootstrap.min.css set `[hidden] { display: none !important; }` so we also need the `!important` here to be able to override the default hidden behavior on the sphinx rendered scikit-learn.org. See: https://github.com/scikit-learn/scikit-learn/issues/21755 */display: inline-block !important;position: relative;}#sk-container-id-2 div.sk-text-repr-fallback {display: none;}</style><div id=\"sk-container-id-2\" class=\"sk-top-container\"><div class=\"sk-text-repr-fallback\"><pre>DecisionTreeClassifier(max_depth=4, random_state=33)</pre><b>In a Jupyter environment, please rerun this cell to show the HTML representation or trust the notebook. <br />On GitHub, the HTML representation is unable to render, please try loading this page with nbviewer.org.</b></div><div class=\"sk-container\" hidden><div class=\"sk-item\"><div class=\"sk-estimator sk-toggleable\"><input class=\"sk-toggleable__control sk-hidden--visually\" id=\"sk-estimator-id-2\" type=\"checkbox\" checked><label for=\"sk-estimator-id-2\" class=\"sk-toggleable__label sk-toggleable__label-arrow\">DecisionTreeClassifier</label><div class=\"sk-toggleable__content\"><pre>DecisionTreeClassifier(max_depth=4, random_state=33)</pre></div></div></div></div></div>"
      ],
      "text/plain": [
       "DecisionTreeClassifier(max_depth=4, random_state=33)"
      ]
     },
     "execution_count": 13,
     "metadata": {},
     "output_type": "execute_result"
    }
   ],
   "source": [
    "dec_tree_model = DecisionTreeClassifier(max_depth = 4, random_state = 33)\n",
    "dec_tree_model.fit(X_train, y_train)"
   ]
  },
  {
   "cell_type": "code",
   "execution_count": 14,
   "id": "9f2c5b21-28d2-448e-8e00-7ddfe0fa38f2",
   "metadata": {},
   "outputs": [
    {
     "data": {
      "text/plain": [
       "0.9998643667641934"
      ]
     },
     "execution_count": 14,
     "metadata": {},
     "output_type": "execute_result"
    }
   ],
   "source": [
    "dec_tree_model.score(X_test, y_test)"
   ]
  },
  {
   "cell_type": "code",
   "execution_count": 15,
   "id": "daca858a-2f08-450e-b8c9-7260b7a09386",
   "metadata": {},
   "outputs": [
    {
     "name": "stdout",
     "output_type": "stream",
     "text": [
      "(285656, 1056016, 9, 173)\n",
      "accuracy: 99.98643667641934%\n",
      "false positives: 0.012892609777218685%\n",
      "false negatives: 0.0006707138034391223%\n"
     ]
    }
   ],
   "source": [
    "print(evaluate(dec_tree_model))"
   ]
  },
  {
   "cell_type": "code",
   "execution_count": 16,
   "id": "a08896cc-0077-46d0-b423-e92d7eef1fac",
   "metadata": {},
   "outputs": [
    {
     "data": {
      "text/plain": [
       "[Text(0.5208333333333334, 0.9, 'x[2] <= 81431.5\\ngini = 0.334\\nsamples = 1341854\\nvalue = [284912, 1056942]'),\n",
       " Text(0.2708333333333333, 0.7, 'x[0] <= 39079.5\\ngini = 0.051\\nsamples = 1084419\\nvalue = [28258, 1056161]'),\n",
       " Text(0.16666666666666666, 0.5, 'x[1] <= 3961.0\\ngini = 0.015\\nsamples = 1063827\\nvalue = [7820, 1056007]'),\n",
       " Text(0.08333333333333333, 0.3, 'x[3] <= 1123962.0\\ngini = 0.0\\nsamples = 1016831\\nvalue = [138, 1016693]'),\n",
       " Text(0.041666666666666664, 0.1, 'gini = 0.153\\nsamples = 1653\\nvalue = [138, 1515]'),\n",
       " Text(0.125, 0.1, 'gini = 0.0\\nsamples = 1015178\\nvalue = [0, 1015178]'),\n",
       " Text(0.25, 0.3, 'x[1] <= 32013.0\\ngini = 0.273\\nsamples = 46996\\nvalue = [7682, 39314]'),\n",
       " Text(0.20833333333333334, 0.1, 'gini = 0.001\\nsamples = 7685\\nvalue = [7682, 3]'),\n",
       " Text(0.2916666666666667, 0.1, 'gini = 0.0\\nsamples = 39311\\nvalue = [0, 39311]'),\n",
       " Text(0.375, 0.5, 'x[1] <= 2822.5\\ngini = 0.015\\nsamples = 20592\\nvalue = [20438, 154]'),\n",
       " Text(0.3333333333333333, 0.3, 'gini = 0.0\\nsamples = 145\\nvalue = [0, 145]'),\n",
       " Text(0.4166666666666667, 0.3, 'x[2] <= 2389.0\\ngini = 0.001\\nsamples = 20447\\nvalue = [20438, 9]'),\n",
       " Text(0.375, 0.1, 'gini = 0.0\\nsamples = 7\\nvalue = [0, 7]'),\n",
       " Text(0.4583333333333333, 0.1, 'gini = 0.0\\nsamples = 20440\\nvalue = [20438, 2]'),\n",
       " Text(0.7708333333333334, 0.7, 'x[3] <= 5309927.5\\ngini = 0.006\\nsamples = 257435\\nvalue = [256654, 781]'),\n",
       " Text(0.6666666666666666, 0.5, 'x[3] <= 5287368.5\\ngini = 0.0\\nsamples = 256301\\nvalue = [256273, 28]'),\n",
       " Text(0.5833333333333334, 0.3, 'x[3] <= 5272142.5\\ngini = 0.0\\nsamples = 256191\\nvalue = [256185, 6]'),\n",
       " Text(0.5416666666666666, 0.1, 'gini = 0.0\\nsamples = 256115\\nvalue = [256113, 2]'),\n",
       " Text(0.625, 0.1, 'gini = 0.1\\nsamples = 76\\nvalue = [72, 4]'),\n",
       " Text(0.75, 0.3, 'x[1] <= 3610.0\\ngini = 0.32\\nsamples = 110\\nvalue = [88, 22]'),\n",
       " Text(0.7083333333333334, 0.1, 'gini = 0.0\\nsamples = 22\\nvalue = [0, 22]'),\n",
       " Text(0.7916666666666666, 0.1, 'gini = 0.0\\nsamples = 88\\nvalue = [88, 0]'),\n",
       " Text(0.875, 0.5, 'x[1] <= 4684.5\\ngini = 0.446\\nsamples = 1134\\nvalue = [381, 753]'),\n",
       " Text(0.8333333333333334, 0.3, 'gini = 0.0\\nsamples = 729\\nvalue = [0, 729]'),\n",
       " Text(0.9166666666666666, 0.3, 'x[3] <= 72228908.0\\ngini = 0.111\\nsamples = 405\\nvalue = [381, 24]'),\n",
       " Text(0.875, 0.1, 'gini = 0.011\\nsamples = 375\\nvalue = [373, 2]'),\n",
       " Text(0.9583333333333334, 0.1, 'gini = 0.391\\nsamples = 30\\nvalue = [8, 22]')]"
      ]
     },
     "execution_count": 16,
     "metadata": {},
     "output_type": "execute_result"
    },
    {
     "data": {
      "image/png": "[encoded data removed]",
      "text/plain": [
       "<Figure size 640x480 with 1 Axes>"
      ]
     },
     "metadata": {},
     "output_type": "display_data"
    }
   ],
   "source": [
    "plot_tree(dec_tree_model)"
   ]
  },
  {
   "cell_type": "code",
   "execution_count": 17,
   "id": "ca0855fd-821d-49ca-9f04-67938d08acdb",
   "metadata": {},
   "outputs": [
    {
     "data": {
      "text/html": [
       "<style>#sk-container-id-3 {color: black;background-color: white;}#sk-container-id-3 pre{padding: 0;}#sk-container-id-3 div.sk-toggleable {background-color: white;}#sk-container-id-3 label.sk-toggleable__label {cursor: pointer;display: block;width: 100%;margin-bottom: 0;padding: 0.3em;box-sizing: border-box;text-align: center;}#sk-container-id-3 label.sk-toggleable__label-arrow:before {content: \"▸\";float: left;margin-right: 0.25em;color: #696969;}#sk-container-id-3 label.sk-toggleable__label-arrow:hover:before {color: black;}#sk-container-id-3 div.sk-estimator:hover label.sk-toggleable__label-arrow:before {color: black;}#sk-container-id-3 div.sk-toggleable__content {max-height: 0;max-width: 0;overflow: hidden;text-align: left;background-color: #f0f8ff;}#sk-container-id-3 div.sk-toggleable__content pre {margin: 0.2em;color: black;border-radius: 0.25em;background-color: #f0f8ff;}#sk-container-id-3 input.sk-toggleable__control:checked~div.sk-toggleable__content {max-height: 200px;max-width: 100%;overflow: auto;}#sk-container-id-3 input.sk-toggleable__control:checked~label.sk-toggleable__label-arrow:before {content: \"▾\";}#sk-container-id-3 div.sk-estimator input.sk-toggleable__control:checked~label.sk-toggleable__label {background-color: #d4ebff;}#sk-container-id-3 div.sk-label input.sk-toggleable__control:checked~label.sk-toggleable__label {background-color: #d4ebff;}#sk-container-id-3 input.sk-hidden--visually {border: 0;clip: rect(1px 1px 1px 1px);clip: rect(1px, 1px, 1px, 1px);height: 1px;margin: -1px;overflow: hidden;padding: 0;position: absolute;width: 1px;}#sk-container-id-3 div.sk-estimator {font-family: monospace;background-color: #f0f8ff;border: 1px dotted black;border-radius: 0.25em;box-sizing: border-box;margin-bottom: 0.5em;}#sk-container-id-3 div.sk-estimator:hover {background-color: #d4ebff;}#sk-container-id-3 div.sk-parallel-item::after {content: \"\";width: 100%;border-bottom: 1px solid gray;flex-grow: 1;}#sk-container-id-3 div.sk-label:hover label.sk-toggleable__label {background-color: #d4ebff;}#sk-container-id-3 div.sk-serial::before {content: \"\";position: absolute;border-left: 1px solid gray;box-sizing: border-box;top: 0;bottom: 0;left: 50%;z-index: 0;}#sk-container-id-3 div.sk-serial {display: flex;flex-direction: column;align-items: center;background-color: white;padding-right: 0.2em;padding-left: 0.2em;position: relative;}#sk-container-id-3 div.sk-item {position: relative;z-index: 1;}#sk-container-id-3 div.sk-parallel {display: flex;align-items: stretch;justify-content: center;background-color: white;position: relative;}#sk-container-id-3 div.sk-item::before, #sk-container-id-3 div.sk-parallel-item::before {content: \"\";position: absolute;border-left: 1px solid gray;box-sizing: border-box;top: 0;bottom: 0;left: 50%;z-index: -1;}#sk-container-id-3 div.sk-parallel-item {display: flex;flex-direction: column;z-index: 1;position: relative;background-color: white;}#sk-container-id-3 div.sk-parallel-item:first-child::after {align-self: flex-end;width: 50%;}#sk-container-id-3 div.sk-parallel-item:last-child::after {align-self: flex-start;width: 50%;}#sk-container-id-3 div.sk-parallel-item:only-child::after {width: 0;}#sk-container-id-3 div.sk-dashed-wrapped {border: 1px dashed gray;margin: 0 0.4em 0.5em 0.4em;box-sizing: border-box;padding-bottom: 0.4em;background-color: white;}#sk-container-id-3 div.sk-label label {font-family: monospace;font-weight: bold;display: inline-block;line-height: 1.2em;}#sk-container-id-3 div.sk-label-container {text-align: center;}#sk-container-id-3 div.sk-container {/* jupyter's `normalize.less` sets `[hidden] { display: none; }` but bootstrap.min.css set `[hidden] { display: none !important; }` so we also need the `!important` here to be able to override the default hidden behavior on the sphinx rendered scikit-learn.org. See: https://github.com/scikit-learn/scikit-learn/issues/21755 */display: inline-block !important;position: relative;}#sk-container-id-3 div.sk-text-repr-fallback {display: none;}</style><div id=\"sk-container-id-3\" class=\"sk-top-container\"><div class=\"sk-text-repr-fallback\"><pre>XGBClassifier(base_score=None, booster=None, callbacks=None,\n",
       "              colsample_bylevel=None, colsample_bynode=None,\n",
       "              colsample_bytree=None, device=None, early_stopping_rounds=None,\n",
       "              enable_categorical=False, eval_metric=None, feature_types=None,\n",
       "              gamma=None, grow_policy=None, importance_type=None,\n",
       "              interaction_constraints=None, learning_rate=None, max_bin=None,\n",
       "              max_cat_threshold=None, max_cat_to_onehot=None,\n",
       "              max_delta_step=None, max_depth=2, max_leaves=None,\n",
       "              min_child_weight=None, missing=nan, monotone_constraints=None,\n",
       "              multi_strategy=None, n_estimators=10, n_jobs=None,\n",
       "              num_parallel_tree=None, random_state=33, ...)</pre><b>In a Jupyter environment, please rerun this cell to show the HTML representation or trust the notebook. <br />On GitHub, the HTML representation is unable to render, please try loading this page with nbviewer.org.</b></div><div class=\"sk-container\" hidden><div class=\"sk-item\"><div class=\"sk-estimator sk-toggleable\"><input class=\"sk-toggleable__control sk-hidden--visually\" id=\"sk-estimator-id-3\" type=\"checkbox\" checked><label for=\"sk-estimator-id-3\" class=\"sk-toggleable__label sk-toggleable__label-arrow\">XGBClassifier</label><div class=\"sk-toggleable__content\"><pre>XGBClassifier(base_score=None, booster=None, callbacks=None,\n",
       "              colsample_bylevel=None, colsample_bynode=None,\n",
       "              colsample_bytree=None, device=None, early_stopping_rounds=None,\n",
       "              enable_categorical=False, eval_metric=None, feature_types=None,\n",
       "              gamma=None, grow_policy=None, importance_type=None,\n",
       "              interaction_constraints=None, learning_rate=None, max_bin=None,\n",
       "              max_cat_threshold=None, max_cat_to_onehot=None,\n",
       "              max_delta_step=None, max_depth=2, max_leaves=None,\n",
       "              min_child_weight=None, missing=nan, monotone_constraints=None,\n",
       "              multi_strategy=None, n_estimators=10, n_jobs=None,\n",
       "              num_parallel_tree=None, random_state=33, ...)</pre></div></div></div></div></div>"
      ],
      "text/plain": [
       "XGBClassifier(base_score=None, booster=None, callbacks=None,\n",
       "              colsample_bylevel=None, colsample_bynode=None,\n",
       "              colsample_bytree=None, device=None, early_stopping_rounds=None,\n",
       "              enable_categorical=False, eval_metric=None, feature_types=None,\n",
       "              gamma=None, grow_policy=None, importance_type=None,\n",
       "              interaction_constraints=None, learning_rate=None, max_bin=None,\n",
       "              max_cat_threshold=None, max_cat_to_onehot=None,\n",
       "              max_delta_step=None, max_depth=2, max_leaves=None,\n",
       "              min_child_weight=None, missing=nan, monotone_constraints=None,\n",
       "              multi_strategy=None, n_estimators=10, n_jobs=None,\n",
       "              num_parallel_tree=None, random_state=33, ...)"
      ]
     },
     "execution_count": 17,
     "metadata": {},
     "output_type": "execute_result"
    }
   ],
   "source": [
    "xgb_model = XGBClassifier(max_depth=2, random_state = 33, n_estimators = 10)\n",
    "xgb_model.fit(X_train, y_train)"
   ]
  },
  {
   "cell_type": "code",
   "execution_count": 18,
   "id": "863e63f8-ad6a-4a14-aa0f-abfc6bbf18f7",
   "metadata": {},
   "outputs": [
    {
     "data": {
      "text/plain": [
       "0.9945232491761399"
      ]
     },
     "execution_count": 18,
     "metadata": {},
     "output_type": "execute_result"
    }
   ],
   "source": [
    "xgb_model.score(X_test, y_test)"
   ]
  },
  {
   "cell_type": "code",
   "execution_count": 19,
   "id": "e3de9b5d-4091-4555-858f-0183da4ba916",
   "metadata": {},
   "outputs": [
    {
     "name": "stdout",
     "output_type": "stream",
     "text": [
      "(278667, 1055838, 187, 7162)\n",
      "accuracy: 99.45232491761399%\n",
      "false positives: 0.533739140025666%\n",
      "false negatives: 0.013935942360346208%\n"
     ]
    }
   ],
   "source": [
    "print(evaluate(xgb_model))"
   ]
  },
  {
   "cell_type": "code",
   "execution_count": 20,
   "id": "64a11677-bbed-4afa-8699-f25df59769ab",
   "metadata": {},
   "outputs": [
    {
     "name": "stdout",
     "output_type": "stream",
     "text": [
      "Learning rate set to 0.5\n",
      "0:\tlearn: 0.3251143\ttotal: 68.7ms\tremaining: 619ms\n",
      "1:\tlearn: 0.1876198\ttotal: 91.8ms\tremaining: 367ms\n",
      "2:\tlearn: 0.1156175\ttotal: 115ms\tremaining: 267ms\n",
      "3:\tlearn: 0.0768977\ttotal: 140ms\tremaining: 209ms\n",
      "4:\tlearn: 0.0527703\ttotal: 164ms\tremaining: 164ms\n",
      "5:\tlearn: 0.0380040\ttotal: 186ms\tremaining: 124ms\n",
      "6:\tlearn: 0.0309518\ttotal: 207ms\tremaining: 88.8ms\n",
      "7:\tlearn: 0.0211920\ttotal: 229ms\tremaining: 57.2ms\n",
      "8:\tlearn: 0.0146475\ttotal: 250ms\tremaining: 27.8ms\n",
      "9:\tlearn: 0.0115928\ttotal: 272ms\tremaining: 0us\n"
     ]
    },
    {
     "data": {
      "text/plain": [
       "<catboost.core.CatBoostClassifier at 0x7f5ee5560650>"
      ]
     },
     "execution_count": 20,
     "metadata": {},
     "output_type": "execute_result"
    }
   ],
   "source": [
    "cb_model = CatBoostClassifier(n_estimators = 10, random_state = 33, max_depth = 2)\n",
    "cb_model.fit(X_train, y_train)"
   ]
  },
  {
   "cell_type": "code",
   "execution_count": 21,
   "id": "65f1f753-a48c-47eb-831b-cf167d9e2230",
   "metadata": {},
   "outputs": [
    {
     "data": {
      "text/plain": [
       "0.9990796316141697"
      ]
     },
     "execution_count": 21,
     "metadata": {},
     "output_type": "execute_result"
    }
   ],
   "source": [
    "cb_model.score(X_test, y_test)"
   ]
  },
  {
   "cell_type": "code",
   "execution_count": 22,
   "id": "8ea91fe4-3bfa-4abe-a157-19e41d51bcab",
   "metadata": {},
   "outputs": [
    {
     "name": "stdout",
     "output_type": "stream",
     "text": [
      "(284777, 1055842, 183, 1052)\n",
      "accuracy: 99.90796316141696%\n",
      "false positives: 0.07839899124643963%\n",
      "false negatives: 0.013637847336595487%\n"
     ]
    }
   ],
   "source": [
    "print(evaluate(cb_model))"
   ]
  },
  {
   "cell_type": "code",
   "execution_count": 23,
   "id": "c72b9c66-ff5a-4033-92c5-19011c4b693f",
   "metadata": {},
   "outputs": [
    {
     "data": {
      "text/plain": [
       "2112967"
      ]
     },
     "execution_count": 23,
     "metadata": {},
     "output_type": "execute_result"
    }
   ],
   "source": [
    "labels.sum()"
   ]
  },
  {
   "cell_type": "code",
   "execution_count": 24,
   "id": "b1d3e9c6-0870-4cdc-9ad5-bb4da85e055b",
   "metadata": {},
   "outputs": [
    {
     "data": {
      "text/plain": [
       "2683708"
      ]
     },
     "execution_count": 24,
     "metadata": {},
     "output_type": "execute_result"
    }
   ],
   "source": [
    "len(labels)"
   ]
  },
  {
   "cell_type": "code",
   "execution_count": 25,
   "id": "aea103b3-db4a-4732-8872-729418c42cb1",
   "metadata": {},
   "outputs": [
    {
     "data": {
      "text/plain": [
       "78.73311850618622"
      ]
     },
     "execution_count": 25,
     "metadata": {},
     "output_type": "execute_result"
    }
   ],
   "source": [
    "labels.sum()*100.0/len(labels)"
   ]
  },
  {
   "cell_type": "code",
   "execution_count": 26,
   "id": "cf47fba6-b75c-49b8-8659-82170f61c236",
   "metadata": {},
   "outputs": [
    {
     "name": "stdout",
     "output_type": "stream",
     "text": [
      "average time for log_reg_model: 13.604176013187724ns,\n",
      "number of samples: 1341854\n"
     ]
    }
   ],
   "source": [
    "start = thread_time_ns()\n",
    "log_reg_model.predict(X_test)\n",
    "stop = thread_time_ns()\n",
    "log_reg_time = (stop - start)/len(y_test)\n",
    "print(f'average time for log_reg_model: {log_reg_time}ns,\\nnumber of samples: {len(y_test)}')"
   ]
  },
  {
   "cell_type": "code",
   "execution_count": 27,
   "id": "5d8940f0-5d00-4625-9619-be1e1c9a4bd2",
   "metadata": {},
   "outputs": [
    {
     "name": "stdout",
     "output_type": "stream",
     "text": [
      "average time for dec_tree_model: 26.826995336303355ns,\n",
      "number of samples: 1341854\n"
     ]
    }
   ],
   "source": [
    "start = thread_time_ns()\n",
    "dec_tree_model.predict(X_test)\n",
    "stop = thread_time_ns()\n",
    "dec_tree_time = (stop - start)/len(y_test)\n",
    "print(f'average time for dec_tree_model: {dec_tree_time}ns,\\nnumber of samples: {len(y_test)}')"
   ]
  },
  {
   "cell_type": "code",
   "execution_count": 28,
   "id": "21f460d6-948d-4c72-a419-25a541a1feb9",
   "metadata": {},
   "outputs": [
    {
     "name": "stdout",
     "output_type": "stream",
     "text": [
      "average time for cb_model: 69.0303721567324ns,\n",
      "number of samples: 1341854\n"
     ]
    }
   ],
   "source": [
    "start = thread_time_ns()\n",
    "cb_model.predict(X_test)\n",
    "stop = thread_time_ns()\n",
    "cb_time = (stop - start)/len(y_test)\n",
    "print(f'average time for cb_model: {cb_time}ns,\\nnumber of samples: {len(y_test)}')"
   ]
  },
  {
   "cell_type": "code",
   "execution_count": 29,
   "id": "278c53f2-8cc1-4e02-a22d-7bb60502f840",
   "metadata": {},
   "outputs": [
    {
     "name": "stdout",
     "output_type": "stream",
     "text": [
      "attack: 12.279242003973607%\n",
      "no_flush: 6.59319121156251%\n",
      "random: 7.172911509001724%\n",
      "attack_ntmp: 13.030814082605112%\n",
      "stream: 7.500778773249548%\n",
      "rh4: 12.227187160451138%\n",
      "rh8: 10.786605696297809%\n",
      "rh9: 10.844846011563106%\n",
      "rh10: 8.196830653707483%\n",
      "rh20: 8.197650415022796%\n",
      "double_sided: 3.169942482565167%\n",
      "total = 99.99999999999999\n",
      "samples: 2683708\n"
     ]
    }
   ],
   "source": [
    "code_types = ['attack', 'no_flush', 'random', 'attack_ntmp', 'stream', 'rh4', 'rh8', 'rh9', 'rh10', 'rh20', 'double_sided']\n",
    "n = df.index.size\n",
    "s = 0\n",
    "for ct in code_types:\n",
    "    m = df.loc[df['code_type'] == ct].index.size\n",
    "    print(f'{ct}: {m*100/n}%')\n",
    "    s += m*100/n\n",
    "print(f'total = {s}')\n",
    "print(f'samples: {n}')"
   ]
  }
 ],
 "metadata": {
  "kernelspec": {
   "display_name": "Python 3 (ipykernel)",
   "language": "python",
   "name": "python3"
  },
  "language_info": {
   "codemirror_mode": {
    "name": "ipython",
    "version": 3
   },
   "file_extension": ".py",
   "mimetype": "text/x-python",
   "name": "python",
   "nbconvert_exporter": "python",
   "pygments_lexer": "ipython3",
   "version": "3.11.7"
  }
 },
 "nbformat": 4,
 "nbformat_minor": 5
}
