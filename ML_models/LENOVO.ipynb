{
 "cells": [
  {
   "cell_type": "code",
   "execution_count": 1,
   "id": "86859e7c-975d-442c-9463-9f8e009e9cca",
   "metadata": {},
   "outputs": [],
   "source": [
    "%matplotlib inline\n",
    "import pandas as pd\n",
    "import numpy as np\n",
    "import matplotlib.pyplot as plt\n",
    "\n",
    "from sklearn.model_selection import train_test_split\n",
    "\n",
    "from sklearn.linear_model import LogisticRegression\n",
    "from sklearn.tree import DecisionTreeClassifier\n",
    "from sklearn.tree import plot_tree\n",
    "from xgboost import XGBClassifier\n",
    "from catboost import CatBoostClassifier\n",
    "\n",
    "from sklearn.metrics import confusion_matrix\n",
    "\n",
    "from time import thread_time_ns"
   ]
  },
  {
   "cell_type": "code",
   "execution_count": 2,
   "id": "2c66e8cf-c39d-45da-9b39-e84063256c6e",
   "metadata": {},
   "outputs": [],
   "source": [
    "df = pd.read_csv('lenovo_data.csv')"
   ]
  },
  {
   "cell_type": "code",
   "execution_count": 3,
   "id": "e5933762-dc05-47d7-8732-7f09bd06faab",
   "metadata": {},
   "outputs": [
    {
     "name": "stdout",
     "output_type": "stream",
     "text": [
      "<class 'pandas.core.frame.DataFrame'>\n",
      "RangeIndex: 3210254 entries, 0 to 3210253\n",
      "Data columns (total 9 columns):\n",
      " #   Column     Dtype  \n",
      "---  ------     -----  \n",
      " 0   laptop     object \n",
      " 1   load       float64\n",
      " 2   code_type  object \n",
      " 3   timestamp  float64\n",
      " 4   llcm       float64\n",
      " 5   l2ch       float64\n",
      " 6   l1ch       float64\n",
      " 7   stalls     float64\n",
      " 8   label      object \n",
      "dtypes: float64(6), object(3)\n",
      "memory usage: 220.4+ MB\n"
     ]
    }
   ],
   "source": [
    "df.info()"
   ]
  },
  {
   "cell_type": "code",
   "execution_count": 4,
   "id": "603cb7d0-a41d-43a6-94ac-95d4cece2526",
   "metadata": {},
   "outputs": [
    {
     "name": "stdout",
     "output_type": "stream",
     "text": [
      "<class 'pandas.core.frame.DataFrame'>\n",
      "Index: 3210253 entries, 0 to 3210253\n",
      "Data columns (total 9 columns):\n",
      " #   Column     Dtype  \n",
      "---  ------     -----  \n",
      " 0   laptop     object \n",
      " 1   load       float64\n",
      " 2   code_type  object \n",
      " 3   timestamp  float64\n",
      " 4   llcm       float64\n",
      " 5   l2ch       float64\n",
      " 6   l1ch       float64\n",
      " 7   stalls     float64\n",
      " 8   label      object \n",
      "dtypes: float64(6), object(3)\n",
      "memory usage: 244.9+ MB\n"
     ]
    }
   ],
   "source": [
    "df.dropna(inplace=True)\n",
    "df.info()"
   ]
  },
  {
   "cell_type": "code",
   "execution_count": 5,
   "id": "684ba58c-d6f3-4ba8-b246-553cbfe75b75",
   "metadata": {},
   "outputs": [
    {
     "data": {
      "text/html": [
       "<div>\n",
       "<style scoped>\n",
       "    .dataframe tbody tr th:only-of-type {\n",
       "        vertical-align: middle;\n",
       "    }\n",
       "\n",
       "    .dataframe tbody tr th {\n",
       "        vertical-align: top;\n",
       "    }\n",
       "\n",
       "    .dataframe thead th {\n",
       "        text-align: right;\n",
       "    }\n",
       "</style>\n",
       "<table border=\"1\" class=\"dataframe\">\n",
       "  <thead>\n",
       "    <tr style=\"text-align: right;\">\n",
       "      <th></th>\n",
       "      <th>load</th>\n",
       "      <th>timestamp</th>\n",
       "      <th>llcm</th>\n",
       "      <th>l2ch</th>\n",
       "      <th>l1ch</th>\n",
       "      <th>stalls</th>\n",
       "    </tr>\n",
       "  </thead>\n",
       "  <tbody>\n",
       "    <tr>\n",
       "      <th>count</th>\n",
       "      <td>3.210253e+06</td>\n",
       "      <td>3.210253e+06</td>\n",
       "      <td>3.210253e+06</td>\n",
       "      <td>3.210253e+06</td>\n",
       "      <td>3.210253e+06</td>\n",
       "      <td>3.210253e+06</td>\n",
       "    </tr>\n",
       "    <tr>\n",
       "      <th>mean</th>\n",
       "      <td>1.274135e+00</td>\n",
       "      <td>9.355162e+01</td>\n",
       "      <td>3.431496e+04</td>\n",
       "      <td>4.143208e+03</td>\n",
       "      <td>3.168127e+05</td>\n",
       "      <td>2.146464e+06</td>\n",
       "    </tr>\n",
       "    <tr>\n",
       "      <th>std</th>\n",
       "      <td>9.616913e-01</td>\n",
       "      <td>7.938262e+01</td>\n",
       "      <td>6.585315e+04</td>\n",
       "      <td>1.179165e+04</td>\n",
       "      <td>4.045876e+05</td>\n",
       "      <td>7.473837e+05</td>\n",
       "    </tr>\n",
       "    <tr>\n",
       "      <th>min</th>\n",
       "      <td>0.000000e+00</td>\n",
       "      <td>1.011000e-03</td>\n",
       "      <td>0.000000e+00</td>\n",
       "      <td>0.000000e+00</td>\n",
       "      <td>0.000000e+00</td>\n",
       "      <td>0.000000e+00</td>\n",
       "    </tr>\n",
       "    <tr>\n",
       "      <th>25%</th>\n",
       "      <td>0.000000e+00</td>\n",
       "      <td>3.658901e+01</td>\n",
       "      <td>9.280000e+02</td>\n",
       "      <td>3.000000e+00</td>\n",
       "      <td>2.973400e+04</td>\n",
       "      <td>1.909644e+06</td>\n",
       "    </tr>\n",
       "    <tr>\n",
       "      <th>50%</th>\n",
       "      <td>2.000000e+00</td>\n",
       "      <td>7.375501e+01</td>\n",
       "      <td>1.235700e+04</td>\n",
       "      <td>1.900000e+01</td>\n",
       "      <td>6.865400e+04</td>\n",
       "      <td>2.497471e+06</td>\n",
       "    </tr>\n",
       "    <tr>\n",
       "      <th>75%</th>\n",
       "      <td>2.000000e+00</td>\n",
       "      <td>1.238980e+02</td>\n",
       "      <td>2.385600e+04</td>\n",
       "      <td>1.379000e+03</td>\n",
       "      <td>5.264630e+05</td>\n",
       "      <td>2.571707e+06</td>\n",
       "    </tr>\n",
       "    <tr>\n",
       "      <th>max</th>\n",
       "      <td>2.000000e+00</td>\n",
       "      <td>4.013360e+02</td>\n",
       "      <td>2.668517e+06</td>\n",
       "      <td>2.636150e+05</td>\n",
       "      <td>2.662117e+07</td>\n",
       "      <td>7.697978e+07</td>\n",
       "    </tr>\n",
       "  </tbody>\n",
       "</table>\n",
       "</div>"
      ],
      "text/plain": [
       "               load     timestamp          llcm          l2ch          l1ch  \\\n",
       "count  3.210253e+06  3.210253e+06  3.210253e+06  3.210253e+06  3.210253e+06   \n",
       "mean   1.274135e+00  9.355162e+01  3.431496e+04  4.143208e+03  3.168127e+05   \n",
       "std    9.616913e-01  7.938262e+01  6.585315e+04  1.179165e+04  4.045876e+05   \n",
       "min    0.000000e+00  1.011000e-03  0.000000e+00  0.000000e+00  0.000000e+00   \n",
       "25%    0.000000e+00  3.658901e+01  9.280000e+02  3.000000e+00  2.973400e+04   \n",
       "50%    2.000000e+00  7.375501e+01  1.235700e+04  1.900000e+01  6.865400e+04   \n",
       "75%    2.000000e+00  1.238980e+02  2.385600e+04  1.379000e+03  5.264630e+05   \n",
       "max    2.000000e+00  4.013360e+02  2.668517e+06  2.636150e+05  2.662117e+07   \n",
       "\n",
       "             stalls  \n",
       "count  3.210253e+06  \n",
       "mean   2.146464e+06  \n",
       "std    7.473837e+05  \n",
       "min    0.000000e+00  \n",
       "25%    1.909644e+06  \n",
       "50%    2.497471e+06  \n",
       "75%    2.571707e+06  \n",
       "max    7.697978e+07  "
      ]
     },
     "execution_count": 5,
     "metadata": {},
     "output_type": "execute_result"
    }
   ],
   "source": [
    "df.describe()"
   ]
  },
  {
   "cell_type": "code",
   "execution_count": 6,
   "id": "e7e3f2ee-29e8-48e8-8acf-acfd75d46c80",
   "metadata": {},
   "outputs": [
    {
     "data": {
      "text/html": [
       "<div>\n",
       "<style scoped>\n",
       "    .dataframe tbody tr th:only-of-type {\n",
       "        vertical-align: middle;\n",
       "    }\n",
       "\n",
       "    .dataframe tbody tr th {\n",
       "        vertical-align: top;\n",
       "    }\n",
       "\n",
       "    .dataframe thead th {\n",
       "        text-align: right;\n",
       "    }\n",
       "</style>\n",
       "<table border=\"1\" class=\"dataframe\">\n",
       "  <thead>\n",
       "    <tr style=\"text-align: right;\">\n",
       "      <th></th>\n",
       "      <th>llcm</th>\n",
       "      <th>l2ch</th>\n",
       "      <th>l1ch</th>\n",
       "      <th>stalls</th>\n",
       "    </tr>\n",
       "  </thead>\n",
       "  <tbody>\n",
       "    <tr>\n",
       "      <th>0</th>\n",
       "      <td>3813.0</td>\n",
       "      <td>28.0</td>\n",
       "      <td>540.0</td>\n",
       "      <td>650876.0</td>\n",
       "    </tr>\n",
       "    <tr>\n",
       "      <th>1</th>\n",
       "      <td>9035.0</td>\n",
       "      <td>1.0</td>\n",
       "      <td>1014.0</td>\n",
       "      <td>2277749.0</td>\n",
       "    </tr>\n",
       "    <tr>\n",
       "      <th>2</th>\n",
       "      <td>9712.0</td>\n",
       "      <td>2.0</td>\n",
       "      <td>67.0</td>\n",
       "      <td>2451457.0</td>\n",
       "    </tr>\n",
       "    <tr>\n",
       "      <th>3</th>\n",
       "      <td>10072.0</td>\n",
       "      <td>0.0</td>\n",
       "      <td>755.0</td>\n",
       "      <td>2461971.0</td>\n",
       "    </tr>\n",
       "    <tr>\n",
       "      <th>4</th>\n",
       "      <td>9779.0</td>\n",
       "      <td>2.0</td>\n",
       "      <td>82.0</td>\n",
       "      <td>2464499.0</td>\n",
       "    </tr>\n",
       "    <tr>\n",
       "      <th>...</th>\n",
       "      <td>...</td>\n",
       "      <td>...</td>\n",
       "      <td>...</td>\n",
       "      <td>...</td>\n",
       "    </tr>\n",
       "    <tr>\n",
       "      <th>3210249</th>\n",
       "      <td>141017.0</td>\n",
       "      <td>3701.0</td>\n",
       "      <td>413914.0</td>\n",
       "      <td>2058460.0</td>\n",
       "    </tr>\n",
       "    <tr>\n",
       "      <th>3210250</th>\n",
       "      <td>140537.0</td>\n",
       "      <td>3486.0</td>\n",
       "      <td>418182.0</td>\n",
       "      <td>2032395.0</td>\n",
       "    </tr>\n",
       "    <tr>\n",
       "      <th>3210251</th>\n",
       "      <td>140655.0</td>\n",
       "      <td>3890.0</td>\n",
       "      <td>410540.0</td>\n",
       "      <td>2066397.0</td>\n",
       "    </tr>\n",
       "    <tr>\n",
       "      <th>3210252</th>\n",
       "      <td>141409.0</td>\n",
       "      <td>3607.0</td>\n",
       "      <td>415259.0</td>\n",
       "      <td>2059597.0</td>\n",
       "    </tr>\n",
       "    <tr>\n",
       "      <th>3210253</th>\n",
       "      <td>139680.0</td>\n",
       "      <td>3479.0</td>\n",
       "      <td>414360.0</td>\n",
       "      <td>2064715.0</td>\n",
       "    </tr>\n",
       "  </tbody>\n",
       "</table>\n",
       "<p>3210253 rows × 4 columns</p>\n",
       "</div>"
      ],
      "text/plain": [
       "             llcm    l2ch      l1ch     stalls\n",
       "0          3813.0    28.0     540.0   650876.0\n",
       "1          9035.0     1.0    1014.0  2277749.0\n",
       "2          9712.0     2.0      67.0  2451457.0\n",
       "3         10072.0     0.0     755.0  2461971.0\n",
       "4          9779.0     2.0      82.0  2464499.0\n",
       "...           ...     ...       ...        ...\n",
       "3210249  141017.0  3701.0  413914.0  2058460.0\n",
       "3210250  140537.0  3486.0  418182.0  2032395.0\n",
       "3210251  140655.0  3890.0  410540.0  2066397.0\n",
       "3210252  141409.0  3607.0  415259.0  2059597.0\n",
       "3210253  139680.0  3479.0  414360.0  2064715.0\n",
       "\n",
       "[3210253 rows x 4 columns]"
      ]
     },
     "execution_count": 6,
     "metadata": {},
     "output_type": "execute_result"
    }
   ],
   "source": [
    "samples=df.drop(columns=['label', 'code_type', 'timestamp', 'load', 'laptop'])\n",
    "#samples['laptop'].replace(['lenovo', 'asus', 'dell'], [1, 2, 3], inplace=True)\n",
    "#samples['laptop'] = samples['laptop'].astype(\"int64\")\n",
    "samples"
   ]
  },
  {
   "cell_type": "code",
   "execution_count": 7,
   "id": "bf94d654-3b5c-48ab-9a5d-944cce9cd11a",
   "metadata": {},
   "outputs": [
    {
     "data": {
      "text/plain": [
       "0          1\n",
       "1          1\n",
       "2          1\n",
       "3          1\n",
       "4          1\n",
       "          ..\n",
       "3210249    0\n",
       "3210250    0\n",
       "3210251    0\n",
       "3210252    0\n",
       "3210253    0\n",
       "Name: label, Length: 3210253, dtype: int64"
      ]
     },
     "execution_count": 7,
     "metadata": {},
     "output_type": "execute_result"
    }
   ],
   "source": [
    "labels = df['label'].replace(['no_attack', 'attack'], [0, 1])\n",
    "labels = labels.astype('int64')\n",
    "labels"
   ]
  },
  {
   "cell_type": "code",
   "execution_count": 8,
   "id": "bee3bdd8-8309-4ba1-bac3-9dc6ebea843e",
   "metadata": {},
   "outputs": [],
   "source": [
    "X_train, X_test, y_train, y_test = train_test_split(samples, labels, train_size = 0.5, random_state= 33, shuffle = True)"
   ]
  },
  {
   "cell_type": "code",
   "execution_count": 9,
   "id": "dde23be7-895c-4653-b421-c5ef5f89be2c",
   "metadata": {},
   "outputs": [],
   "source": [
    "def evaluate(model):\n",
    "    # https://stackoverflow.com/questions/31324218/scikit-learn-how-to-obtain-true-positive-true-negative-false-positive-and-fal\n",
    "    y_pred = model.predict(X_test)\n",
    "    tn, fp, fn, tp = confusion_matrix(y_test, y_pred, labels=[0, 1]).ravel()\n",
    "    n = tn + fp + fn + tp\n",
    "    return f'accuracy: {(tp+tn)*100.0/n}%\\nfalse positives: {fp*100.0/n}%\\nfalse negatives: {fn*100.0/n}%'"
   ]
  },
  {
   "cell_type": "code",
   "execution_count": 10,
   "id": "060775fa-19b0-41cc-a209-b76b9d026408",
   "metadata": {},
   "outputs": [
    {
     "data": {
      "text/html": [
       "<style>#sk-container-id-1 {color: black;background-color: white;}#sk-container-id-1 pre{padding: 0;}#sk-container-id-1 div.sk-toggleable {background-color: white;}#sk-container-id-1 label.sk-toggleable__label {cursor: pointer;display: block;width: 100%;margin-bottom: 0;padding: 0.3em;box-sizing: border-box;text-align: center;}#sk-container-id-1 label.sk-toggleable__label-arrow:before {content: \"▸\";float: left;margin-right: 0.25em;color: #696969;}#sk-container-id-1 label.sk-toggleable__label-arrow:hover:before {color: black;}#sk-container-id-1 div.sk-estimator:hover label.sk-toggleable__label-arrow:before {color: black;}#sk-container-id-1 div.sk-toggleable__content {max-height: 0;max-width: 0;overflow: hidden;text-align: left;background-color: #f0f8ff;}#sk-container-id-1 div.sk-toggleable__content pre {margin: 0.2em;color: black;border-radius: 0.25em;background-color: #f0f8ff;}#sk-container-id-1 input.sk-toggleable__control:checked~div.sk-toggleable__content {max-height: 200px;max-width: 100%;overflow: auto;}#sk-container-id-1 input.sk-toggleable__control:checked~label.sk-toggleable__label-arrow:before {content: \"▾\";}#sk-container-id-1 div.sk-estimator input.sk-toggleable__control:checked~label.sk-toggleable__label {background-color: #d4ebff;}#sk-container-id-1 div.sk-label input.sk-toggleable__control:checked~label.sk-toggleable__label {background-color: #d4ebff;}#sk-container-id-1 input.sk-hidden--visually {border: 0;clip: rect(1px 1px 1px 1px);clip: rect(1px, 1px, 1px, 1px);height: 1px;margin: -1px;overflow: hidden;padding: 0;position: absolute;width: 1px;}#sk-container-id-1 div.sk-estimator {font-family: monospace;background-color: #f0f8ff;border: 1px dotted black;border-radius: 0.25em;box-sizing: border-box;margin-bottom: 0.5em;}#sk-container-id-1 div.sk-estimator:hover {background-color: #d4ebff;}#sk-container-id-1 div.sk-parallel-item::after {content: \"\";width: 100%;border-bottom: 1px solid gray;flex-grow: 1;}#sk-container-id-1 div.sk-label:hover label.sk-toggleable__label {background-color: #d4ebff;}#sk-container-id-1 div.sk-serial::before {content: \"\";position: absolute;border-left: 1px solid gray;box-sizing: border-box;top: 0;bottom: 0;left: 50%;z-index: 0;}#sk-container-id-1 div.sk-serial {display: flex;flex-direction: column;align-items: center;background-color: white;padding-right: 0.2em;padding-left: 0.2em;position: relative;}#sk-container-id-1 div.sk-item {position: relative;z-index: 1;}#sk-container-id-1 div.sk-parallel {display: flex;align-items: stretch;justify-content: center;background-color: white;position: relative;}#sk-container-id-1 div.sk-item::before, #sk-container-id-1 div.sk-parallel-item::before {content: \"\";position: absolute;border-left: 1px solid gray;box-sizing: border-box;top: 0;bottom: 0;left: 50%;z-index: -1;}#sk-container-id-1 div.sk-parallel-item {display: flex;flex-direction: column;z-index: 1;position: relative;background-color: white;}#sk-container-id-1 div.sk-parallel-item:first-child::after {align-self: flex-end;width: 50%;}#sk-container-id-1 div.sk-parallel-item:last-child::after {align-self: flex-start;width: 50%;}#sk-container-id-1 div.sk-parallel-item:only-child::after {width: 0;}#sk-container-id-1 div.sk-dashed-wrapped {border: 1px dashed gray;margin: 0 0.4em 0.5em 0.4em;box-sizing: border-box;padding-bottom: 0.4em;background-color: white;}#sk-container-id-1 div.sk-label label {font-family: monospace;font-weight: bold;display: inline-block;line-height: 1.2em;}#sk-container-id-1 div.sk-label-container {text-align: center;}#sk-container-id-1 div.sk-container {/* jupyter's `normalize.less` sets `[hidden] { display: none; }` but bootstrap.min.css set `[hidden] { display: none !important; }` so we also need the `!important` here to be able to override the default hidden behavior on the sphinx rendered scikit-learn.org. See: https://github.com/scikit-learn/scikit-learn/issues/21755 */display: inline-block !important;position: relative;}#sk-container-id-1 div.sk-text-repr-fallback {display: none;}</style><div id=\"sk-container-id-1\" class=\"sk-top-container\"><div class=\"sk-text-repr-fallback\"><pre>LogisticRegression(random_state=33)</pre><b>In a Jupyter environment, please rerun this cell to show the HTML representation or trust the notebook. <br />On GitHub, the HTML representation is unable to render, please try loading this page with nbviewer.org.</b></div><div class=\"sk-container\" hidden><div class=\"sk-item\"><div class=\"sk-estimator sk-toggleable\"><input class=\"sk-toggleable__control sk-hidden--visually\" id=\"sk-estimator-id-1\" type=\"checkbox\" checked><label for=\"sk-estimator-id-1\" class=\"sk-toggleable__label sk-toggleable__label-arrow\">LogisticRegression</label><div class=\"sk-toggleable__content\"><pre>LogisticRegression(random_state=33)</pre></div></div></div></div></div>"
      ],
      "text/plain": [
       "LogisticRegression(random_state=33)"
      ]
     },
     "execution_count": 10,
     "metadata": {},
     "output_type": "execute_result"
    }
   ],
   "source": [
    "log_reg_model = LogisticRegression(random_state=33)\n",
    "log_reg_model.fit(X_train, y_train)"
   ]
  },
  {
   "cell_type": "code",
   "execution_count": 11,
   "id": "590d2c24-415f-4c87-bba0-9617e23f6240",
   "metadata": {},
   "outputs": [
    {
     "data": {
      "text/plain": [
       "0.9973279372909434"
      ]
     },
     "execution_count": 11,
     "metadata": {},
     "output_type": "execute_result"
    }
   ],
   "source": [
    "log_reg_model.score(X_test, y_test)"
   ]
  },
  {
   "cell_type": "code",
   "execution_count": 12,
   "id": "c70551dd-84bc-43fc-85be-4951d9e322e4",
   "metadata": {},
   "outputs": [
    {
     "name": "stdout",
     "output_type": "stream",
     "text": [
      "accuracy: 99.73279372909434%\n",
      "false positives: 0.07706555306838649%\n",
      "false negatives: 0.19014071783728018%\n"
     ]
    }
   ],
   "source": [
    "print(evaluate(log_reg_model))"
   ]
  },
  {
   "cell_type": "code",
   "execution_count": 13,
   "id": "2f2497cb-d48c-4995-95cb-5d30ede45d6a",
   "metadata": {},
   "outputs": [
    {
     "data": {
      "text/html": [
       "<style>#sk-container-id-2 {color: black;background-color: white;}#sk-container-id-2 pre{padding: 0;}#sk-container-id-2 div.sk-toggleable {background-color: white;}#sk-container-id-2 label.sk-toggleable__label {cursor: pointer;display: block;width: 100%;margin-bottom: 0;padding: 0.3em;box-sizing: border-box;text-align: center;}#sk-container-id-2 label.sk-toggleable__label-arrow:before {content: \"▸\";float: left;margin-right: 0.25em;color: #696969;}#sk-container-id-2 label.sk-toggleable__label-arrow:hover:before {color: black;}#sk-container-id-2 div.sk-estimator:hover label.sk-toggleable__label-arrow:before {color: black;}#sk-container-id-2 div.sk-toggleable__content {max-height: 0;max-width: 0;overflow: hidden;text-align: left;background-color: #f0f8ff;}#sk-container-id-2 div.sk-toggleable__content pre {margin: 0.2em;color: black;border-radius: 0.25em;background-color: #f0f8ff;}#sk-container-id-2 input.sk-toggleable__control:checked~div.sk-toggleable__content {max-height: 200px;max-width: 100%;overflow: auto;}#sk-container-id-2 input.sk-toggleable__control:checked~label.sk-toggleable__label-arrow:before {content: \"▾\";}#sk-container-id-2 div.sk-estimator input.sk-toggleable__control:checked~label.sk-toggleable__label {background-color: #d4ebff;}#sk-container-id-2 div.sk-label input.sk-toggleable__control:checked~label.sk-toggleable__label {background-color: #d4ebff;}#sk-container-id-2 input.sk-hidden--visually {border: 0;clip: rect(1px 1px 1px 1px);clip: rect(1px, 1px, 1px, 1px);height: 1px;margin: -1px;overflow: hidden;padding: 0;position: absolute;width: 1px;}#sk-container-id-2 div.sk-estimator {font-family: monospace;background-color: #f0f8ff;border: 1px dotted black;border-radius: 0.25em;box-sizing: border-box;margin-bottom: 0.5em;}#sk-container-id-2 div.sk-estimator:hover {background-color: #d4ebff;}#sk-container-id-2 div.sk-parallel-item::after {content: \"\";width: 100%;border-bottom: 1px solid gray;flex-grow: 1;}#sk-container-id-2 div.sk-label:hover label.sk-toggleable__label {background-color: #d4ebff;}#sk-container-id-2 div.sk-serial::before {content: \"\";position: absolute;border-left: 1px solid gray;box-sizing: border-box;top: 0;bottom: 0;left: 50%;z-index: 0;}#sk-container-id-2 div.sk-serial {display: flex;flex-direction: column;align-items: center;background-color: white;padding-right: 0.2em;padding-left: 0.2em;position: relative;}#sk-container-id-2 div.sk-item {position: relative;z-index: 1;}#sk-container-id-2 div.sk-parallel {display: flex;align-items: stretch;justify-content: center;background-color: white;position: relative;}#sk-container-id-2 div.sk-item::before, #sk-container-id-2 div.sk-parallel-item::before {content: \"\";position: absolute;border-left: 1px solid gray;box-sizing: border-box;top: 0;bottom: 0;left: 50%;z-index: -1;}#sk-container-id-2 div.sk-parallel-item {display: flex;flex-direction: column;z-index: 1;position: relative;background-color: white;}#sk-container-id-2 div.sk-parallel-item:first-child::after {align-self: flex-end;width: 50%;}#sk-container-id-2 div.sk-parallel-item:last-child::after {align-self: flex-start;width: 50%;}#sk-container-id-2 div.sk-parallel-item:only-child::after {width: 0;}#sk-container-id-2 div.sk-dashed-wrapped {border: 1px dashed gray;margin: 0 0.4em 0.5em 0.4em;box-sizing: border-box;padding-bottom: 0.4em;background-color: white;}#sk-container-id-2 div.sk-label label {font-family: monospace;font-weight: bold;display: inline-block;line-height: 1.2em;}#sk-container-id-2 div.sk-label-container {text-align: center;}#sk-container-id-2 div.sk-container {/* jupyter's `normalize.less` sets `[hidden] { display: none; }` but bootstrap.min.css set `[hidden] { display: none !important; }` so we also need the `!important` here to be able to override the default hidden behavior on the sphinx rendered scikit-learn.org. See: https://github.com/scikit-learn/scikit-learn/issues/21755 */display: inline-block !important;position: relative;}#sk-container-id-2 div.sk-text-repr-fallback {display: none;}</style><div id=\"sk-container-id-2\" class=\"sk-top-container\"><div class=\"sk-text-repr-fallback\"><pre>DecisionTreeClassifier(max_depth=5, random_state=33)</pre><b>In a Jupyter environment, please rerun this cell to show the HTML representation or trust the notebook. <br />On GitHub, the HTML representation is unable to render, please try loading this page with nbviewer.org.</b></div><div class=\"sk-container\" hidden><div class=\"sk-item\"><div class=\"sk-estimator sk-toggleable\"><input class=\"sk-toggleable__control sk-hidden--visually\" id=\"sk-estimator-id-2\" type=\"checkbox\" checked><label for=\"sk-estimator-id-2\" class=\"sk-toggleable__label sk-toggleable__label-arrow\">DecisionTreeClassifier</label><div class=\"sk-toggleable__content\"><pre>DecisionTreeClassifier(max_depth=5, random_state=33)</pre></div></div></div></div></div>"
      ],
      "text/plain": [
       "DecisionTreeClassifier(max_depth=5, random_state=33)"
      ]
     },
     "execution_count": 13,
     "metadata": {},
     "output_type": "execute_result"
    }
   ],
   "source": [
    "dec_tree_model = DecisionTreeClassifier(max_depth = 5, random_state = 33)\n",
    "dec_tree_model.fit(X_train, y_train)"
   ]
  },
  {
   "cell_type": "code",
   "execution_count": 14,
   "id": "9f2c5b21-28d2-448e-8e00-7ddfe0fa38f2",
   "metadata": {},
   "outputs": [
    {
     "data": {
      "text/plain": [
       "0.9980356694517007"
      ]
     },
     "execution_count": 14,
     "metadata": {},
     "output_type": "execute_result"
    }
   ],
   "source": [
    "dec_tree_model.score(X_test, y_test)"
   ]
  },
  {
   "cell_type": "code",
   "execution_count": 15,
   "id": "daca858a-2f08-450e-b8c9-7260b7a09386",
   "metadata": {},
   "outputs": [
    {
     "name": "stdout",
     "output_type": "stream",
     "text": [
      "accuracy: 99.80356694517008%\n",
      "false positives: 0.004921728934844408%\n",
      "false negatives: 0.19151132589508493%\n"
     ]
    }
   ],
   "source": [
    "print(evaluate(dec_tree_model))"
   ]
  },
  {
   "cell_type": "code",
   "execution_count": 16,
   "id": "a08896cc-0077-46d0-b423-e92d7eef1fac",
   "metadata": {},
   "outputs": [
    {
     "data": {
      "text/plain": [
       "[Text(0.5, 0.9166666666666666, 'x[2] <= 88077.0\\ngini = 0.488\\nsamples = 1605126\\nvalue = [676507, 928619]'),\n",
       " Text(0.2847222222222222, 0.75, 'x[0] <= 429.0\\ngini = 0.011\\nsamples = 933756\\nvalue = [5326, 928430]'),\n",
       " Text(0.1388888888888889, 0.5833333333333334, 'x[1] <= 11.0\\ngini = 0.47\\nsamples = 8285\\nvalue = [5155, 3130]'),\n",
       " Text(0.08333333333333333, 0.4166666666666667, 'x[0] <= 64.5\\ngini = 0.492\\nsamples = 7135\\nvalue = [4006, 3129]'),\n",
       " Text(0.05555555555555555, 0.25, 'x[3] <= 4880.5\\ngini = 0.491\\nsamples = 7085\\nvalue = [4006, 3079]'),\n",
       " Text(0.027777777777777776, 0.08333333333333333, 'gini = 0.492\\nsamples = 7065\\nvalue = [3986, 3079]'),\n",
       " Text(0.08333333333333333, 0.08333333333333333, 'gini = 0.0\\nsamples = 20\\nvalue = [20, 0]'),\n",
       " Text(0.1111111111111111, 0.25, 'gini = 0.0\\nsamples = 50\\nvalue = [0, 50]'),\n",
       " Text(0.19444444444444445, 0.4166666666666667, 'x[3] <= 20437.5\\ngini = 0.002\\nsamples = 1150\\nvalue = [1149, 1]'),\n",
       " Text(0.16666666666666666, 0.25, 'gini = 0.0\\nsamples = 1\\nvalue = [0, 1]'),\n",
       " Text(0.2222222222222222, 0.25, 'gini = 0.0\\nsamples = 1149\\nvalue = [1149, 0]'),\n",
       " Text(0.4305555555555556, 0.5833333333333334, 'x[3] <= 600370.0\\ngini = 0.0\\nsamples = 925471\\nvalue = [171, 925300]'),\n",
       " Text(0.3333333333333333, 0.4166666666666667, 'x[2] <= 11464.0\\ngini = 0.417\\nsamples = 412\\nvalue = [122, 290]'),\n",
       " Text(0.2777777777777778, 0.25, 'x[1] <= 63.0\\ngini = 0.099\\nsamples = 305\\nvalue = [16, 289]'),\n",
       " Text(0.25, 0.08333333333333333, 'gini = 0.007\\nsamples = 286\\nvalue = [1, 285]'),\n",
       " Text(0.3055555555555556, 0.08333333333333333, 'gini = 0.332\\nsamples = 19\\nvalue = [15, 4]'),\n",
       " Text(0.3888888888888889, 0.25, 'x[1] <= 19.0\\ngini = 0.019\\nsamples = 107\\nvalue = [106, 1]'),\n",
       " Text(0.3611111111111111, 0.08333333333333333, 'gini = 0.5\\nsamples = 2\\nvalue = [1, 1]'),\n",
       " Text(0.4166666666666667, 0.08333333333333333, 'gini = 0.0\\nsamples = 105\\nvalue = [105, 0]'),\n",
       " Text(0.5277777777777778, 0.4166666666666667, 'x[1] <= 25912.5\\ngini = 0.0\\nsamples = 925059\\nvalue = [49, 925010]'),\n",
       " Text(0.5, 0.25, 'x[3] <= 913800.0\\ngini = 0.0\\nsamples = 925054\\nvalue = [44, 925010]'),\n",
       " Text(0.4722222222222222, 0.08333333333333333, 'gini = 0.18\\nsamples = 270\\nvalue = [27, 243]'),\n",
       " Text(0.5277777777777778, 0.08333333333333333, 'gini = 0.0\\nsamples = 924784\\nvalue = [17, 924767]'),\n",
       " Text(0.5555555555555556, 0.25, 'gini = 0.0\\nsamples = 5\\nvalue = [5, 0]'),\n",
       " Text(0.7152777777777778, 0.75, 'x[3] <= 5037982.0\\ngini = 0.001\\nsamples = 671370\\nvalue = [671181, 189]'),\n",
       " Text(0.6111111111111112, 0.5833333333333334, 'x[3] <= 3174859.5\\ngini = 0.0\\nsamples = 670785\\nvalue = [670778, 7]'),\n",
       " Text(0.5833333333333334, 0.4166666666666667, 'gini = 0.0\\nsamples = 670719\\nvalue = [670719, 0]'),\n",
       " Text(0.6388888888888888, 0.4166666666666667, 'x[2] <= 152300.0\\ngini = 0.19\\nsamples = 66\\nvalue = [59, 7]'),\n",
       " Text(0.6111111111111112, 0.25, 'gini = 0.0\\nsamples = 7\\nvalue = [0, 7]'),\n",
       " Text(0.6666666666666666, 0.25, 'gini = 0.0\\nsamples = 59\\nvalue = [59, 0]'),\n",
       " Text(0.8194444444444444, 0.5833333333333334, 'x[2] <= 718612.5\\ngini = 0.429\\nsamples = 585\\nvalue = [403, 182]'),\n",
       " Text(0.75, 0.4166666666666667, 'x[1] <= 28343.5\\ngini = 0.145\\nsamples = 191\\nvalue = [15, 176]'),\n",
       " Text(0.7222222222222222, 0.25, 'x[0] <= 36346.0\\ngini = 0.074\\nsamples = 183\\nvalue = [7, 176]'),\n",
       " Text(0.6944444444444444, 0.08333333333333333, 'gini = 0.0\\nsamples = 7\\nvalue = [7, 0]'),\n",
       " Text(0.75, 0.08333333333333333, 'gini = 0.0\\nsamples = 176\\nvalue = [0, 176]'),\n",
       " Text(0.7777777777777778, 0.25, 'gini = 0.0\\nsamples = 8\\nvalue = [8, 0]'),\n",
       " Text(0.8888888888888888, 0.4166666666666667, 'x[3] <= 51198094.0\\ngini = 0.03\\nsamples = 394\\nvalue = [388, 6]'),\n",
       " Text(0.8333333333333334, 0.25, 'x[2] <= 778326.5\\ngini = 0.005\\nsamples = 388\\nvalue = [387, 1]'),\n",
       " Text(0.8055555555555556, 0.08333333333333333, 'gini = 0.32\\nsamples = 5\\nvalue = [4, 1]'),\n",
       " Text(0.8611111111111112, 0.08333333333333333, 'gini = 0.0\\nsamples = 383\\nvalue = [383, 0]'),\n",
       " Text(0.9444444444444444, 0.25, 'x[1] <= 104595.0\\ngini = 0.278\\nsamples = 6\\nvalue = [1, 5]'),\n",
       " Text(0.9166666666666666, 0.08333333333333333, 'gini = 0.0\\nsamples = 5\\nvalue = [0, 5]'),\n",
       " Text(0.9722222222222222, 0.08333333333333333, 'gini = 0.0\\nsamples = 1\\nvalue = [1, 0]')]"
      ]
     },
     "execution_count": 16,
     "metadata": {},
     "output_type": "execute_result"
    },
    {
     "data": {
      "image/png": "[encoded data removed]",
      "text/plain": [
       "<Figure size 640x480 with 1 Axes>"
      ]
     },
     "metadata": {},
     "output_type": "display_data"
    }
   ],
   "source": [
    "plot_tree(dec_tree_model)"
   ]
  },
  {
   "cell_type": "code",
   "execution_count": 17,
   "id": "ca0855fd-821d-49ca-9f04-67938d08acdb",
   "metadata": {},
   "outputs": [
    {
     "data": {
      "text/html": [
       "<style>#sk-container-id-3 {color: black;background-color: white;}#sk-container-id-3 pre{padding: 0;}#sk-container-id-3 div.sk-toggleable {background-color: white;}#sk-container-id-3 label.sk-toggleable__label {cursor: pointer;display: block;width: 100%;margin-bottom: 0;padding: 0.3em;box-sizing: border-box;text-align: center;}#sk-container-id-3 label.sk-toggleable__label-arrow:before {content: \"▸\";float: left;margin-right: 0.25em;color: #696969;}#sk-container-id-3 label.sk-toggleable__label-arrow:hover:before {color: black;}#sk-container-id-3 div.sk-estimator:hover label.sk-toggleable__label-arrow:before {color: black;}#sk-container-id-3 div.sk-toggleable__content {max-height: 0;max-width: 0;overflow: hidden;text-align: left;background-color: #f0f8ff;}#sk-container-id-3 div.sk-toggleable__content pre {margin: 0.2em;color: black;border-radius: 0.25em;background-color: #f0f8ff;}#sk-container-id-3 input.sk-toggleable__control:checked~div.sk-toggleable__content {max-height: 200px;max-width: 100%;overflow: auto;}#sk-container-id-3 input.sk-toggleable__control:checked~label.sk-toggleable__label-arrow:before {content: \"▾\";}#sk-container-id-3 div.sk-estimator input.sk-toggleable__control:checked~label.sk-toggleable__label {background-color: #d4ebff;}#sk-container-id-3 div.sk-label input.sk-toggleable__control:checked~label.sk-toggleable__label {background-color: #d4ebff;}#sk-container-id-3 input.sk-hidden--visually {border: 0;clip: rect(1px 1px 1px 1px);clip: rect(1px, 1px, 1px, 1px);height: 1px;margin: -1px;overflow: hidden;padding: 0;position: absolute;width: 1px;}#sk-container-id-3 div.sk-estimator {font-family: monospace;background-color: #f0f8ff;border: 1px dotted black;border-radius: 0.25em;box-sizing: border-box;margin-bottom: 0.5em;}#sk-container-id-3 div.sk-estimator:hover {background-color: #d4ebff;}#sk-container-id-3 div.sk-parallel-item::after {content: \"\";width: 100%;border-bottom: 1px solid gray;flex-grow: 1;}#sk-container-id-3 div.sk-label:hover label.sk-toggleable__label {background-color: #d4ebff;}#sk-container-id-3 div.sk-serial::before {content: \"\";position: absolute;border-left: 1px solid gray;box-sizing: border-box;top: 0;bottom: 0;left: 50%;z-index: 0;}#sk-container-id-3 div.sk-serial {display: flex;flex-direction: column;align-items: center;background-color: white;padding-right: 0.2em;padding-left: 0.2em;position: relative;}#sk-container-id-3 div.sk-item {position: relative;z-index: 1;}#sk-container-id-3 div.sk-parallel {display: flex;align-items: stretch;justify-content: center;background-color: white;position: relative;}#sk-container-id-3 div.sk-item::before, #sk-container-id-3 div.sk-parallel-item::before {content: \"\";position: absolute;border-left: 1px solid gray;box-sizing: border-box;top: 0;bottom: 0;left: 50%;z-index: -1;}#sk-container-id-3 div.sk-parallel-item {display: flex;flex-direction: column;z-index: 1;position: relative;background-color: white;}#sk-container-id-3 div.sk-parallel-item:first-child::after {align-self: flex-end;width: 50%;}#sk-container-id-3 div.sk-parallel-item:last-child::after {align-self: flex-start;width: 50%;}#sk-container-id-3 div.sk-parallel-item:only-child::after {width: 0;}#sk-container-id-3 div.sk-dashed-wrapped {border: 1px dashed gray;margin: 0 0.4em 0.5em 0.4em;box-sizing: border-box;padding-bottom: 0.4em;background-color: white;}#sk-container-id-3 div.sk-label label {font-family: monospace;font-weight: bold;display: inline-block;line-height: 1.2em;}#sk-container-id-3 div.sk-label-container {text-align: center;}#sk-container-id-3 div.sk-container {/* jupyter's `normalize.less` sets `[hidden] { display: none; }` but bootstrap.min.css set `[hidden] { display: none !important; }` so we also need the `!important` here to be able to override the default hidden behavior on the sphinx rendered scikit-learn.org. See: https://github.com/scikit-learn/scikit-learn/issues/21755 */display: inline-block !important;position: relative;}#sk-container-id-3 div.sk-text-repr-fallback {display: none;}</style><div id=\"sk-container-id-3\" class=\"sk-top-container\"><div class=\"sk-text-repr-fallback\"><pre>XGBClassifier(base_score=None, booster=None, callbacks=None,\n",
       "              colsample_bylevel=None, colsample_bynode=None,\n",
       "              colsample_bytree=None, device=None, early_stopping_rounds=None,\n",
       "              enable_categorical=False, eval_metric=None, feature_types=None,\n",
       "              gamma=None, grow_policy=None, importance_type=None,\n",
       "              interaction_constraints=None, learning_rate=None, max_bin=None,\n",
       "              max_cat_threshold=None, max_cat_to_onehot=None,\n",
       "              max_delta_step=None, max_depth=2, max_leaves=None,\n",
       "              min_child_weight=None, missing=nan, monotone_constraints=None,\n",
       "              multi_strategy=None, n_estimators=10, n_jobs=None,\n",
       "              num_parallel_tree=None, random_state=33, ...)</pre><b>In a Jupyter environment, please rerun this cell to show the HTML representation or trust the notebook. <br />On GitHub, the HTML representation is unable to render, please try loading this page with nbviewer.org.</b></div><div class=\"sk-container\" hidden><div class=\"sk-item\"><div class=\"sk-estimator sk-toggleable\"><input class=\"sk-toggleable__control sk-hidden--visually\" id=\"sk-estimator-id-3\" type=\"checkbox\" checked><label for=\"sk-estimator-id-3\" class=\"sk-toggleable__label sk-toggleable__label-arrow\">XGBClassifier</label><div class=\"sk-toggleable__content\"><pre>XGBClassifier(base_score=None, booster=None, callbacks=None,\n",
       "              colsample_bylevel=None, colsample_bynode=None,\n",
       "              colsample_bytree=None, device=None, early_stopping_rounds=None,\n",
       "              enable_categorical=False, eval_metric=None, feature_types=None,\n",
       "              gamma=None, grow_policy=None, importance_type=None,\n",
       "              interaction_constraints=None, learning_rate=None, max_bin=None,\n",
       "              max_cat_threshold=None, max_cat_to_onehot=None,\n",
       "              max_delta_step=None, max_depth=2, max_leaves=None,\n",
       "              min_child_weight=None, missing=nan, monotone_constraints=None,\n",
       "              multi_strategy=None, n_estimators=10, n_jobs=None,\n",
       "              num_parallel_tree=None, random_state=33, ...)</pre></div></div></div></div></div>"
      ],
      "text/plain": [
       "XGBClassifier(base_score=None, booster=None, callbacks=None,\n",
       "              colsample_bylevel=None, colsample_bynode=None,\n",
       "              colsample_bytree=None, device=None, early_stopping_rounds=None,\n",
       "              enable_categorical=False, eval_metric=None, feature_types=None,\n",
       "              gamma=None, grow_policy=None, importance_type=None,\n",
       "              interaction_constraints=None, learning_rate=None, max_bin=None,\n",
       "              max_cat_threshold=None, max_cat_to_onehot=None,\n",
       "              max_delta_step=None, max_depth=2, max_leaves=None,\n",
       "              min_child_weight=None, missing=nan, monotone_constraints=None,\n",
       "              multi_strategy=None, n_estimators=10, n_jobs=None,\n",
       "              num_parallel_tree=None, random_state=33, ...)"
      ]
     },
     "execution_count": 17,
     "metadata": {},
     "output_type": "execute_result"
    }
   ],
   "source": [
    "xgb_model = XGBClassifier(max_depth=2, random_state = 33, n_estimators = 10)\n",
    "xgb_model.fit(X_train, y_train)"
   ]
  },
  {
   "cell_type": "code",
   "execution_count": 18,
   "id": "863e63f8-ad6a-4a14-aa0f-abfc6bbf18f7",
   "metadata": {},
   "outputs": [
    {
     "data": {
      "text/plain": [
       "0.9978587364115113"
      ]
     },
     "execution_count": 18,
     "metadata": {},
     "output_type": "execute_result"
    }
   ],
   "source": [
    "xgb_model.score(X_test, y_test)"
   ]
  },
  {
   "cell_type": "code",
   "execution_count": 19,
   "id": "e3de9b5d-4091-4555-858f-0183da4ba916",
   "metadata": {},
   "outputs": [
    {
     "name": "stdout",
     "output_type": "stream",
     "text": [
      "accuracy: 99.78587364115114%\n",
      "false positives: 0.012709274717826066%\n",
      "false negatives: 0.2014170841310376%\n"
     ]
    }
   ],
   "source": [
    "print(evaluate(xgb_model))"
   ]
  },
  {
   "cell_type": "code",
   "execution_count": 20,
   "id": "64a11677-bbed-4afa-8699-f25df59769ab",
   "metadata": {},
   "outputs": [
    {
     "name": "stdout",
     "output_type": "stream",
     "text": [
      "Learning rate set to 0.5\n",
      "0:\tlearn: 0.3161621\ttotal: 79.1ms\tremaining: 712ms\n",
      "1:\tlearn: 0.1750973\ttotal: 107ms\tremaining: 429ms\n",
      "2:\tlearn: 0.1028277\ttotal: 132ms\tremaining: 308ms\n",
      "3:\tlearn: 0.0621955\ttotal: 164ms\tremaining: 246ms\n",
      "4:\tlearn: 0.0390049\ttotal: 195ms\tremaining: 195ms\n",
      "5:\tlearn: 0.0257484\ttotal: 220ms\tremaining: 147ms\n",
      "6:\tlearn: 0.0178354\ttotal: 246ms\tremaining: 105ms\n",
      "7:\tlearn: 0.0126016\ttotal: 271ms\tremaining: 67.8ms\n",
      "8:\tlearn: 0.0093772\ttotal: 297ms\tremaining: 33ms\n",
      "9:\tlearn: 0.0073801\ttotal: 327ms\tremaining: 0us\n"
     ]
    },
    {
     "data": {
      "text/plain": [
       "<catboost.core.CatBoostClassifier at 0x7f8113111f50>"
      ]
     },
     "execution_count": 20,
     "metadata": {},
     "output_type": "execute_result"
    }
   ],
   "source": [
    "cb_model = CatBoostClassifier(n_estimators = 10, random_state = 33, max_depth = 2)\n",
    "cb_model.fit(X_train, y_train)"
   ]
  },
  {
   "cell_type": "code",
   "execution_count": 21,
   "id": "65f1f753-a48c-47eb-831b-cf167d9e2230",
   "metadata": {},
   "outputs": [
    {
     "data": {
      "text/plain": [
       "0.997845653334596"
      ]
     },
     "execution_count": 21,
     "metadata": {},
     "output_type": "execute_result"
    }
   ],
   "source": [
    "cb_model.score(X_test, y_test)"
   ]
  },
  {
   "cell_type": "code",
   "execution_count": 22,
   "id": "8ea91fe4-3bfa-4abe-a157-19e41d51bcab",
   "metadata": {},
   "outputs": [
    {
     "name": "stdout",
     "output_type": "stream",
     "text": [
      "accuracy: 99.7845653334596%\n",
      "false positives: 0.011650168491340561%\n",
      "false negatives: 0.20378449804906404%\n"
     ]
    }
   ],
   "source": [
    "print(evaluate(cb_model))"
   ]
  },
  {
   "cell_type": "code",
   "execution_count": 23,
   "id": "c72b9c66-ff5a-4033-92c5-19011c4b693f",
   "metadata": {},
   "outputs": [
    {
     "data": {
      "text/plain": [
       "1855307"
      ]
     },
     "execution_count": 23,
     "metadata": {},
     "output_type": "execute_result"
    }
   ],
   "source": [
    "labels.sum()"
   ]
  },
  {
   "cell_type": "code",
   "execution_count": 24,
   "id": "80623b88-6cef-49ea-8d4d-0ec06eda0247",
   "metadata": {},
   "outputs": [
    {
     "data": {
      "text/plain": [
       "3210253"
      ]
     },
     "execution_count": 24,
     "metadata": {},
     "output_type": "execute_result"
    }
   ],
   "source": [
    "len(labels)"
   ]
  },
  {
   "cell_type": "code",
   "execution_count": 25,
   "id": "ee45e315-94bf-4d0f-baeb-b42f2cbd3940",
   "metadata": {},
   "outputs": [
    {
     "data": {
      "text/plain": [
       "57.793170818623956"
      ]
     },
     "execution_count": 25,
     "metadata": {},
     "output_type": "execute_result"
    }
   ],
   "source": [
    "labels.sum()*100.0/len(labels)"
   ]
  },
  {
   "cell_type": "code",
   "execution_count": 26,
   "id": "ddc85484-d836-46da-a4f3-ad0b4dbe8c8a",
   "metadata": {},
   "outputs": [
    {
     "name": "stdout",
     "output_type": "stream",
     "text": [
      "average time for log_reg_model: 7.99499665758535ns,\n",
      "number of samples: 1605127\n"
     ]
    }
   ],
   "source": [
    "start = thread_time_ns()\n",
    "log_reg_model.predict(X_test)\n",
    "stop = thread_time_ns()\n",
    "log_reg_time = (stop - start)/len(y_test)\n",
    "print(f'average time for log_reg_model: {log_reg_time}ns,\\nnumber of samples: {len(y_test)}')"
   ]
  },
  {
   "cell_type": "code",
   "execution_count": 27,
   "id": "77b033eb-e831-46c9-8178-df512c44fc4b",
   "metadata": {},
   "outputs": [
    {
     "name": "stdout",
     "output_type": "stream",
     "text": [
      "average time for dec_tree_model: 30.087877781633477ns,\n",
      "number of samples: 1605127\n"
     ]
    }
   ],
   "source": [
    "start = thread_time_ns()\n",
    "dec_tree_model.predict(X_test)\n",
    "stop = thread_time_ns()\n",
    "dec_tree_time = (stop - start)/len(y_test)\n",
    "print(f'average time for dec_tree_model: {dec_tree_time}ns,\\nnumber of samples: {len(y_test)}')"
   ]
  },
  {
   "cell_type": "code",
   "execution_count": 28,
   "id": "ef0c7f12-280c-47e4-b049-711adfc9a51a",
   "metadata": {},
   "outputs": [
    {
     "name": "stdout",
     "output_type": "stream",
     "text": [
      "average time for cb_model: 64.51587008380022ns,\n",
      "number of samples: 1605127\n"
     ]
    }
   ],
   "source": [
    "start = thread_time_ns()\n",
    "cb_model.predict(X_test)\n",
    "stop = thread_time_ns()\n",
    "cb_time = (stop - start)/len(y_test)\n",
    "print(f'average time for cb_model: {cb_time}ns,\\nnumber of samples: {len(y_test)}')"
   ]
  },
  {
   "cell_type": "code",
   "execution_count": 29,
   "id": "e300f3aa-63f6-4879-81ad-a51efcef856a",
   "metadata": {},
   "outputs": [
    {
     "name": "stdout",
     "output_type": "stream",
     "text": [
      "attack: 5.570620134923945%\n",
      "no_flush: 10.910105839010196%\n",
      "random: 18.00094883487376%\n",
      "attack_ntmp: 8.69781914384941%\n",
      "stream: 13.295774507492089%\n",
      "rh4: 6.846500883263718%\n",
      "rh8: 6.7450135550064125%\n",
      "rh9: 6.710031888452406%\n",
      "rh10: 6.662154042064597%\n",
      "rh20: 6.375354216630278%\n",
      "double_sided: 10.185676954433186%\n",
      "total = 100.00000000000001\n",
      "samples: 3210253\n"
     ]
    }
   ],
   "source": [
    "code_types = ['attack', 'no_flush', 'random', 'attack_ntmp', 'stream', 'rh4', 'rh8', 'rh9', 'rh10', 'rh20', 'double_sided']\n",
    "n = df.index.size\n",
    "s = 0\n",
    "for ct in code_types:\n",
    "    m = df.loc[df['code_type'] == ct].index.size\n",
    "    print(f'{ct}: {m*100/n}%')\n",
    "    s += m*100/n\n",
    "print(f'total = {s}')\n",
    "print(f'samples: {n}')"
   ]
  },
  {
   "cell_type": "code",
   "execution_count": null,
   "id": "0c594ce4-22c3-45d0-a17f-1f240ded1faf",
   "metadata": {},
   "outputs": [],
   "source": []
  }
 ],
 "metadata": {
  "kernelspec": {
   "display_name": "Python 3 (ipykernel)",
   "language": "python",
   "name": "python3"
  },
  "language_info": {
   "codemirror_mode": {
    "name": "ipython",
    "version": 3
   },
   "file_extension": ".py",
   "mimetype": "text/x-python",
   "name": "python",
   "nbconvert_exporter": "python",
   "pygments_lexer": "ipython3",
   "version": "3.11.7"
  }
 },
 "nbformat": 4,
 "nbformat_minor": 5
}
